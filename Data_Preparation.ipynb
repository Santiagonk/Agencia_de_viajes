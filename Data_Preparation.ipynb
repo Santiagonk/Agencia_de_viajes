{
  "nbformat": 4,
  "nbformat_minor": 0,
  "metadata": {
    "colab": {
      "name": "Data_Preparation.ipynb",
      "provenance": [],
      "authorship_tag": "ABX9TyOkI18SsrtAdegdTFwdnO1l",
      "include_colab_link": true
    },
    "kernelspec": {
      "name": "python3",
      "display_name": "Python 3"
    },
    "language_info": {
      "name": "python"
    }
  },
  "cells": [
    {
      "cell_type": "markdown",
      "metadata": {
        "id": "view-in-github",
        "colab_type": "text"
      },
      "source": [
        "<a href=\"https://colab.research.google.com/github/Santiagonk/Agencia_de_viajes/blob/main/Data_Preparation.ipynb\" target=\"_parent\"><img src=\"https://colab.research.google.com/assets/colab-badge.svg\" alt=\"Open In Colab\"/></a>"
      ]
    },
    {
      "cell_type": "markdown",
      "metadata": {
        "id": "oQ-korKefh2Y"
      },
      "source": [
        "# Data Preparation"
      ]
    },
    {
      "cell_type": "code",
      "metadata": {
        "colab": {
          "base_uri": "https://localhost:8080/"
        },
        "id": "nxJFJrmpfTfV",
        "outputId": "8a98d4a9-2a92-43d4-c5a8-6b5426b46fcf"
      },
      "source": [
        "from google.colab import drive\n",
        "drive.mount('/content/drive')"
      ],
      "execution_count": null,
      "outputs": [
        {
          "output_type": "stream",
          "text": [
            "Mounted at /content/drive\n"
          ],
          "name": "stdout"
        }
      ]
    },
    {
      "cell_type": "code",
      "metadata": {
        "colab": {
          "base_uri": "https://localhost:8080/"
        },
        "id": "O8KaTb5mgA5K",
        "outputId": "1fa364aa-f030-4cee-86f6-a4509adb1a6c"
      },
      "source": [
        "%cd '/content/drive/My Drive/Colab Notebooks/PlatziMaster/Proyecto Agencia de Viajes/datasets'\n",
        "!ls"
      ],
      "execution_count": null,
      "outputs": [
        {
          "output_type": "stream",
          "text": [
            "/content/drive/My Drive/Colab Notebooks/PlatziMaster/Proyecto Agencia de Viajes/datasets\n",
            "DataAcomodacion.csv  funciones_auxiliares.ipynb  train_data.txt\n"
          ],
          "name": "stdout"
        }
      ]
    },
    {
      "cell_type": "code",
      "metadata": {
        "id": "3KIG_2qbgA-K"
      },
      "source": [
        "%run funciones_auxiliares.ipynb"
      ],
      "execution_count": null,
      "outputs": []
    },
    {
      "cell_type": "markdown",
      "metadata": {
        "id": "E79iA6MJgLFF"
      },
      "source": [
        "## Dependencias"
      ]
    },
    {
      "cell_type": "code",
      "metadata": {
        "id": "YQqPhDrlgBCZ"
      },
      "source": [
        "# Traer librerias\n",
        "import pandas as pd\n",
        "import numpy as np\n",
        "import matplotlib.pyplot as plt"
      ],
      "execution_count": null,
      "outputs": []
    },
    {
      "cell_type": "markdown",
      "metadata": {
        "id": "YnwsSMNPgOw9"
      },
      "source": [
        "## Carga de Datos"
      ]
    },
    {
      "cell_type": "code",
      "metadata": {
        "colab": {
          "base_uri": "https://localhost:8080/",
          "height": 217
        },
        "id": "roTV8XougBGv",
        "outputId": "a78b402f-8548-4c0a-db8d-6488249a131b"
      },
      "source": [
        "f = open(\"train_data.txt\", \"r\")\n",
        "data_acomodation = load_data(f)\n",
        "data_acomodation = dataTypeTransform(data_acomodation)\n",
        "data_acomodation.head()"
      ],
      "execution_count": null,
      "outputs": [
        {
          "output_type": "execute_result",
          "data": {
            "text/html": [
              "<div>\n",
              "<style scoped>\n",
              "    .dataframe tbody tr th:only-of-type {\n",
              "        vertical-align: middle;\n",
              "    }\n",
              "\n",
              "    .dataframe tbody tr th {\n",
              "        vertical-align: top;\n",
              "    }\n",
              "\n",
              "    .dataframe thead th {\n",
              "        text-align: right;\n",
              "    }\n",
              "</style>\n",
              "<table border=\"1\" class=\"dataframe\">\n",
              "  <thead>\n",
              "    <tr style=\"text-align: right;\">\n",
              "      <th></th>\n",
              "      <th>id_viaje</th>\n",
              "      <th>duracion_estadia</th>\n",
              "      <th>genero</th>\n",
              "      <th>edad</th>\n",
              "      <th>ninos</th>\n",
              "      <th>codigo_destino</th>\n",
              "      <th>tipo_acomodacion</th>\n",
              "    </tr>\n",
              "  </thead>\n",
              "  <tbody>\n",
              "    <tr>\n",
              "      <th>0</th>\n",
              "      <td>1010286</td>\n",
              "      <td>7</td>\n",
              "      <td>F</td>\n",
              "      <td>40</td>\n",
              "      <td>0</td>\n",
              "      <td>COL</td>\n",
              "      <td>AirBnB</td>\n",
              "    </tr>\n",
              "    <tr>\n",
              "      <th>1</th>\n",
              "      <td>1000152</td>\n",
              "      <td>5</td>\n",
              "      <td>M</td>\n",
              "      <td>&lt;NA&gt;</td>\n",
              "      <td>0</td>\n",
              "      <td>&lt;NA&gt;</td>\n",
              "      <td>AirBnB</td>\n",
              "    </tr>\n",
              "    <tr>\n",
              "      <th>2</th>\n",
              "      <td>1009019</td>\n",
              "      <td>4</td>\n",
              "      <td>F</td>\n",
              "      <td>39</td>\n",
              "      <td>1</td>\n",
              "      <td>ES</td>\n",
              "      <td>Hotel</td>\n",
              "    </tr>\n",
              "    <tr>\n",
              "      <th>3</th>\n",
              "      <td>1007840</td>\n",
              "      <td>5</td>\n",
              "      <td>F</td>\n",
              "      <td>45</td>\n",
              "      <td>0</td>\n",
              "      <td>NL</td>\n",
              "      <td>Hotel</td>\n",
              "    </tr>\n",
              "    <tr>\n",
              "      <th>4</th>\n",
              "      <td>1006939</td>\n",
              "      <td>5</td>\n",
              "      <td>M</td>\n",
              "      <td>45</td>\n",
              "      <td>1</td>\n",
              "      <td>UK</td>\n",
              "      <td>Hotel</td>\n",
              "    </tr>\n",
              "  </tbody>\n",
              "</table>\n",
              "</div>"
            ],
            "text/plain": [
              "   id_viaje  duracion_estadia genero  ...  ninos codigo_destino tipo_acomodacion\n",
              "0   1010286                 7      F  ...      0            COL           AirBnB\n",
              "1   1000152                 5      M  ...      0           <NA>           AirBnB\n",
              "2   1009019                 4      F  ...      1             ES            Hotel\n",
              "3   1007840                 5      F  ...      0             NL            Hotel\n",
              "4   1006939                 5      M  ...      1             UK            Hotel\n",
              "\n",
              "[5 rows x 7 columns]"
            ]
          },
          "metadata": {
            "tags": []
          },
          "execution_count": 5
        }
      ]
    },
    {
      "cell_type": "markdown",
      "metadata": {
        "id": "VljpdVBkhDh3"
      },
      "source": [
        "## Seleccion de Datos\n"
      ]
    },
    {
      "cell_type": "code",
      "metadata": {
        "colab": {
          "base_uri": "https://localhost:8080/"
        },
        "id": "k9PH6u9ygBKI",
        "outputId": "1ccba966-49a2-40a8-b491-586ca540c619"
      },
      "source": [
        "data_acomodation.info()"
      ],
      "execution_count": null,
      "outputs": [
        {
          "output_type": "stream",
          "text": [
            "<class 'pandas.core.frame.DataFrame'>\n",
            "Int64Index: 9868 entries, 0 to 9867\n",
            "Data columns (total 7 columns):\n",
            " #   Column            Non-Null Count  Dtype   \n",
            "---  ------            --------------  -----   \n",
            " 0   id_viaje          9868 non-null   Int64   \n",
            " 1   duracion_estadia  9868 non-null   Int64   \n",
            " 2   genero            9868 non-null   category\n",
            " 3   edad              8874 non-null   Int64   \n",
            " 4   ninos             8897 non-null   string  \n",
            " 5   codigo_destino    8872 non-null   string  \n",
            " 6   tipo_acomodacion  9868 non-null   string  \n",
            "dtypes: Int64(3), category(1), string(3)\n",
            "memory usage: 578.3 KB\n"
          ],
          "name": "stdout"
        }
      ]
    },
    {
      "cell_type": "markdown",
      "metadata": {
        "id": "KkNr9IFohVwL"
      },
      "source": [
        "`id_viaje`, `duracion_estadia`, `genero` y `tipo_acomodacion` se encuentran sin datos nulos.\n",
        "tenemos que pasar a valores numericos las variables que tenemos,  por ejemplo con variables dummy en el caso de `genero` y `codigo_destino`.\n",
        "\n",
        "En la primera iteración del modelo realizaremos, con las variables que tenemos.\n"
      ]
    },
    {
      "cell_type": "code",
      "metadata": {
        "id": "2ZSXcgkVhPoZ"
      },
      "source": [
        ""
      ],
      "execution_count": null,
      "outputs": []
    },
    {
      "cell_type": "code",
      "metadata": {
        "id": "Ej08PRO8hPsg"
      },
      "source": [
        ""
      ],
      "execution_count": null,
      "outputs": []
    },
    {
      "cell_type": "code",
      "metadata": {
        "id": "O0UNDBfshPvy"
      },
      "source": [
        ""
      ],
      "execution_count": null,
      "outputs": []
    },
    {
      "cell_type": "code",
      "metadata": {
        "id": "Exj03L1KhPzi"
      },
      "source": [
        ""
      ],
      "execution_count": null,
      "outputs": []
    },
    {
      "cell_type": "markdown",
      "metadata": {
        "id": "0pn8pnnBhHc0"
      },
      "source": [
        "## Limpieza de Datos"
      ]
    },
    {
      "cell_type": "code",
      "metadata": {
        "id": "eBkgJDkahQuz"
      },
      "source": [
        ""
      ],
      "execution_count": null,
      "outputs": []
    },
    {
      "cell_type": "code",
      "metadata": {
        "id": "1QFt9SIlhQ42"
      },
      "source": [
        ""
      ],
      "execution_count": null,
      "outputs": []
    },
    {
      "cell_type": "code",
      "metadata": {
        "id": "4OGPNxz8hQ8x"
      },
      "source": [
        ""
      ],
      "execution_count": null,
      "outputs": []
    },
    {
      "cell_type": "code",
      "metadata": {
        "id": "2J52AkXjhRAa"
      },
      "source": [
        ""
      ],
      "execution_count": null,
      "outputs": []
    },
    {
      "cell_type": "code",
      "metadata": {
        "id": "9e_5GnMxhREJ"
      },
      "source": [
        ""
      ],
      "execution_count": null,
      "outputs": []
    }
  ]
}