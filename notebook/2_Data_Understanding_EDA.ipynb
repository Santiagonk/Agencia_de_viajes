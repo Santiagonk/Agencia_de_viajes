{
  "nbformat": 4,
  "nbformat_minor": 0,
  "metadata": {
    "colab": {
      "name": "2.Data_Understanding-EDA.ipynb",
      "provenance": []
    },
    "kernelspec": {
      "name": "python3",
      "display_name": "Python 3"
    },
    "language_info": {
      "name": "python"
    }
  },
  "cells": [
    {
      "cell_type": "markdown",
      "metadata": {
        "id": "X5USoUOyEqwt"
      },
      "source": [
        "# Data Understanding\n",
        "\n",
        "Revisaremos los datos con los que contamos de la agencia de viajes."
      ]
    },
    {
      "cell_type": "code",
      "metadata": {
        "colab": {
          "base_uri": "https://localhost:8080/"
        },
        "id": "dJWD-F4HDvQI",
        "outputId": "5a2637a8-bb0c-48b6-a923-026641af252b"
      },
      "source": [
        "from google.colab import drive\n",
        "drive.mount('/content/drive')"
      ],
      "execution_count": null,
      "outputs": [
        {
          "output_type": "stream",
          "text": [
            "Mounted at /content/drive\n"
          ],
          "name": "stdout"
        }
      ]
    },
    {
      "cell_type": "code",
      "metadata": {
        "colab": {
          "base_uri": "https://localhost:8080/"
        },
        "id": "2MOLWUdKFFZc",
        "outputId": "98f7d4d3-2035-442e-ae19-8fb28f440bbf"
      },
      "source": [
        "%cd '/content/drive/My Drive/Colab Notebooks/PlatziMaster/Proyecto Agencia de Viajes/datasets'\n",
        "!ls"
      ],
      "execution_count": null,
      "outputs": [
        {
          "output_type": "stream",
          "text": [
            "/content/drive/My Drive/Colab Notebooks/PlatziMaster/Proyecto Agencia de Viajes/datasets\n",
            "DataAcomodacion.csv  funciones_auxiliares.ipynb  train_data.txt\n"
          ],
          "name": "stdout"
        }
      ]
    },
    {
      "cell_type": "code",
      "metadata": {
        "id": "VrIWa4mkF45C"
      },
      "source": [
        "%run funciones_auxiliares.ipynb"
      ],
      "execution_count": null,
      "outputs": []
    },
    {
      "cell_type": "markdown",
      "metadata": {
        "id": "bn1YvNATFOrb"
      },
      "source": [
        "## Dependencias"
      ]
    },
    {
      "cell_type": "code",
      "metadata": {
        "id": "bdnrlJyUFOXs"
      },
      "source": [
        "# Traer librerias\n",
        "import pandas as pd\n",
        "import numpy as np\n",
        "import matplotlib.pyplot as plt"
      ],
      "execution_count": null,
      "outputs": []
    },
    {
      "cell_type": "markdown",
      "metadata": {
        "id": "Mm9PW37nFHA7"
      },
      "source": [
        "## Carga de Datos:"
      ]
    },
    {
      "cell_type": "code",
      "metadata": {
        "colab": {
          "base_uri": "https://localhost:8080/",
          "height": 197
        },
        "id": "_3gW1ZB-EjTQ",
        "outputId": "cde20950-9e9d-4075-fc4e-907a65005384"
      },
      "source": [
        "f = open(\"train_data.txt\", \"r\")\n",
        "data_acomodation = load_data(f)\n",
        "data_acomodation = dataTypeTransform(data_acomodation)\n",
        "data_acomodation.head()"
      ],
      "execution_count": null,
      "outputs": [
        {
          "output_type": "execute_result",
          "data": {
            "text/html": [
              "<div>\n",
              "<style scoped>\n",
              "    .dataframe tbody tr th:only-of-type {\n",
              "        vertical-align: middle;\n",
              "    }\n",
              "\n",
              "    .dataframe tbody tr th {\n",
              "        vertical-align: top;\n",
              "    }\n",
              "\n",
              "    .dataframe thead th {\n",
              "        text-align: right;\n",
              "    }\n",
              "</style>\n",
              "<table border=\"1\" class=\"dataframe\">\n",
              "  <thead>\n",
              "    <tr style=\"text-align: right;\">\n",
              "      <th></th>\n",
              "      <th>id_viaje</th>\n",
              "      <th>duracion_estadia</th>\n",
              "      <th>genero</th>\n",
              "      <th>edad</th>\n",
              "      <th>ninos</th>\n",
              "      <th>codigo_destino</th>\n",
              "      <th>tipo_acomodacion</th>\n",
              "    </tr>\n",
              "  </thead>\n",
              "  <tbody>\n",
              "    <tr>\n",
              "      <th>0</th>\n",
              "      <td>1010286</td>\n",
              "      <td>7</td>\n",
              "      <td>F</td>\n",
              "      <td>40</td>\n",
              "      <td>0</td>\n",
              "      <td>COL</td>\n",
              "      <td>AirBnB</td>\n",
              "    </tr>\n",
              "    <tr>\n",
              "      <th>1</th>\n",
              "      <td>1000152</td>\n",
              "      <td>5</td>\n",
              "      <td>M</td>\n",
              "      <td>&lt;NA&gt;</td>\n",
              "      <td>0</td>\n",
              "      <td>&lt;NA&gt;</td>\n",
              "      <td>AirBnB</td>\n",
              "    </tr>\n",
              "    <tr>\n",
              "      <th>2</th>\n",
              "      <td>1009019</td>\n",
              "      <td>4</td>\n",
              "      <td>F</td>\n",
              "      <td>39</td>\n",
              "      <td>1</td>\n",
              "      <td>ES</td>\n",
              "      <td>Hotel</td>\n",
              "    </tr>\n",
              "    <tr>\n",
              "      <th>3</th>\n",
              "      <td>1007840</td>\n",
              "      <td>5</td>\n",
              "      <td>F</td>\n",
              "      <td>45</td>\n",
              "      <td>0</td>\n",
              "      <td>NL</td>\n",
              "      <td>Hotel</td>\n",
              "    </tr>\n",
              "    <tr>\n",
              "      <th>4</th>\n",
              "      <td>1006939</td>\n",
              "      <td>5</td>\n",
              "      <td>M</td>\n",
              "      <td>45</td>\n",
              "      <td>1</td>\n",
              "      <td>UK</td>\n",
              "      <td>Hotel</td>\n",
              "    </tr>\n",
              "  </tbody>\n",
              "</table>\n",
              "</div>"
            ],
            "text/plain": [
              "   id_viaje  duracion_estadia genero  ...  ninos codigo_destino tipo_acomodacion\n",
              "0   1010286                 7      F  ...      0            COL           AirBnB\n",
              "1   1000152                 5      M  ...      0           <NA>           AirBnB\n",
              "2   1009019                 4      F  ...      1             ES            Hotel\n",
              "3   1007840                 5      F  ...      0             NL            Hotel\n",
              "4   1006939                 5      M  ...      1             UK            Hotel\n",
              "\n",
              "[5 rows x 7 columns]"
            ]
          },
          "metadata": {
            "tags": []
          },
          "execution_count": 5
        }
      ]
    },
    {
      "cell_type": "markdown",
      "metadata": {
        "id": "Lz5rurpgG-nB"
      },
      "source": [
        "## Exploración de datos:\n",
        "\n",
        "### Pasos de la Exploración de datos\n",
        "\n",
        "Se realizaran los siguientes pasos para la Exploración de datos:\n",
        "\n",
        "1. Identificación de variables\n",
        "2. Analisis univariado\n",
        "3. Analisis bi-variado\n",
        "\n",
        "Pasos se toman a recomendación del blog: https://www.analyticsvidhya.com/blog/2016/01/guide-data-exploration/#one\n",
        "\n",
        "sin embargo se realiza diferencia, tomando unicamente los tres primeros presentados en el blog para este paso, y dejando los ultimos 4 para siguientes pasos en el proceso."
      ]
    },
    {
      "cell_type": "markdown",
      "metadata": {
        "id": "ti_lYh3zH5M_"
      },
      "source": [
        "### 1. Identificación de variables\n",
        "\n",
        "Parte de este proceso se realizo en la descripcion de los datos, en este caso nos centraremos en detallar esta identificación "
      ]
    },
    {
      "cell_type": "code",
      "metadata": {
        "colab": {
          "base_uri": "https://localhost:8080/"
        },
        "id": "pvsSq5hdEjXG",
        "outputId": "1385d6d5-3dc8-4ac2-a5b9-f4f604978dd8"
      },
      "source": [
        "data_acomodation.info()"
      ],
      "execution_count": null,
      "outputs": [
        {
          "output_type": "stream",
          "text": [
            "<class 'pandas.core.frame.DataFrame'>\n",
            "Int64Index: 9868 entries, 0 to 9867\n",
            "Data columns (total 7 columns):\n",
            " #   Column            Non-Null Count  Dtype   \n",
            "---  ------            --------------  -----   \n",
            " 0   id_viaje          9868 non-null   Int64   \n",
            " 1   duracion_estadia  9868 non-null   Int64   \n",
            " 2   genero            9868 non-null   category\n",
            " 3   edad              8874 non-null   Int64   \n",
            " 4   ninos             8897 non-null   string  \n",
            " 5   codigo_destino    8872 non-null   string  \n",
            " 6   tipo_acomodacion  9868 non-null   string  \n",
            "dtypes: Int64(3), category(1), string(3)\n",
            "memory usage: 578.3 KB\n"
          ],
          "name": "stdout"
        }
      ]
    },
    {
      "cell_type": "markdown",
      "metadata": {
        "id": "eqp_0V3pIe_l"
      },
      "source": [
        "### 2. Analisis univariado\n",
        "\n",
        "Evaluaremos las variables una a una.\n",
        "Dependemos de si la variable es de tipo categorica o numerica.\n",
        "\n",
        "#### Variables continuas\n",
        "\n",
        "En caso de las variables continuas, necesitamos comprender tendencia central y dispersión.\n",
        "\n",
        "#### Variables Categoricas\n",
        "\n",
        "Comprender la distribución de cada categoria."
      ]
    },
    {
      "cell_type": "code",
      "metadata": {
        "id": "X2LS6xzHdk_8"
      },
      "source": [
        ""
      ],
      "execution_count": null,
      "outputs": []
    },
    {
      "cell_type": "markdown",
      "metadata": {
        "id": "E6hSL4moXXm9"
      },
      "source": [
        "#### Descripcion de variables Cuantitativas"
      ]
    },
    {
      "cell_type": "code",
      "metadata": {
        "id": "2pwtdIafIn4l"
      },
      "source": [
        "# setear presentacion floteantes\n",
        "pd.set_option('display.float_format','{:,.1f}'.format)"
      ],
      "execution_count": null,
      "outputs": []
    },
    {
      "cell_type": "code",
      "metadata": {
        "colab": {
          "base_uri": "https://localhost:8080/",
          "height": 287
        },
        "id": "KUdFd7IYEjaf",
        "outputId": "81ff7138-1bf8-4891-8b81-0e13e17cd353"
      },
      "source": [
        "num_cols = list(data_acomodation.select_dtypes(include=['int64', 'float']).columns)\n",
        "num_cols.remove('id_viaje')\n",
        "data_acomodation[num_cols].describe()"
      ],
      "execution_count": null,
      "outputs": [
        {
          "output_type": "execute_result",
          "data": {
            "text/html": [
              "<div>\n",
              "<style scoped>\n",
              "    .dataframe tbody tr th:only-of-type {\n",
              "        vertical-align: middle;\n",
              "    }\n",
              "\n",
              "    .dataframe tbody tr th {\n",
              "        vertical-align: top;\n",
              "    }\n",
              "\n",
              "    .dataframe thead th {\n",
              "        text-align: right;\n",
              "    }\n",
              "</style>\n",
              "<table border=\"1\" class=\"dataframe\">\n",
              "  <thead>\n",
              "    <tr style=\"text-align: right;\">\n",
              "      <th></th>\n",
              "      <th>duracion_estadia</th>\n",
              "      <th>edad</th>\n",
              "    </tr>\n",
              "  </thead>\n",
              "  <tbody>\n",
              "    <tr>\n",
              "      <th>count</th>\n",
              "      <td>9,868.0</td>\n",
              "      <td>8,874.0</td>\n",
              "    </tr>\n",
              "    <tr>\n",
              "      <th>mean</th>\n",
              "      <td>4.0</td>\n",
              "      <td>40.4</td>\n",
              "    </tr>\n",
              "    <tr>\n",
              "      <th>std</th>\n",
              "      <td>1.7</td>\n",
              "      <td>5.0</td>\n",
              "    </tr>\n",
              "    <tr>\n",
              "      <th>min</th>\n",
              "      <td>1.0</td>\n",
              "      <td>22.0</td>\n",
              "    </tr>\n",
              "    <tr>\n",
              "      <th>25%</th>\n",
              "      <td>3.0</td>\n",
              "      <td>37.0</td>\n",
              "    </tr>\n",
              "    <tr>\n",
              "      <th>50%</th>\n",
              "      <td>4.0</td>\n",
              "      <td>40.0</td>\n",
              "    </tr>\n",
              "    <tr>\n",
              "      <th>75%</th>\n",
              "      <td>5.0</td>\n",
              "      <td>44.0</td>\n",
              "    </tr>\n",
              "    <tr>\n",
              "      <th>max</th>\n",
              "      <td>13.0</td>\n",
              "      <td>59.0</td>\n",
              "    </tr>\n",
              "  </tbody>\n",
              "</table>\n",
              "</div>"
            ],
            "text/plain": [
              "       duracion_estadia    edad\n",
              "count           9,868.0 8,874.0\n",
              "mean                4.0    40.4\n",
              "std                 1.7     5.0\n",
              "min                 1.0    22.0\n",
              "25%                 3.0    37.0\n",
              "50%                 4.0    40.0\n",
              "75%                 5.0    44.0\n",
              "max                13.0    59.0"
            ]
          },
          "metadata": {
            "tags": []
          },
          "execution_count": 8
        }
      ]
    },
    {
      "cell_type": "markdown",
      "metadata": {
        "id": "aFNu0GA1Xog0"
      },
      "source": [
        "#### Descripcion de variables Cualitativas"
      ]
    },
    {
      "cell_type": "code",
      "metadata": {
        "colab": {
          "base_uri": "https://localhost:8080/"
        },
        "id": "C17lxpPHEjdn",
        "outputId": "7d33d534-1452-4af3-c4f9-8e6ffa0e111b"
      },
      "source": [
        "cat_cols = list(data_acomodation.select_dtypes(include=['string', 'boolean', 'category']).columns)\n",
        "freq_table(data_acomodation, cat_cols)"
      ],
      "execution_count": null,
      "outputs": [
        {
          "output_type": "stream",
          "text": [
            "========================================\n",
            "  index  genero  frequency\n",
            "0     F    4981        0.5\n",
            "1     M    4887        0.5\n",
            "========================================\n",
            "  index  ninos  frequency\n",
            "0     1   4488        0.5\n",
            "1     0   4409        0.4\n",
            "========================================\n",
            "  index  codigo_destino  frequency\n",
            "0    US            1161        0.1\n",
            "1   COL            1150        0.1\n",
            "2    IT            1114        0.1\n",
            "3    AR            1107        0.1\n",
            "4    NL            1101        0.1\n",
            "5    PE            1095        0.1\n",
            "6    UK            1086        0.1\n",
            "7    ES            1058        0.1\n",
            "========================================\n",
            "    index  tipo_acomodacion  frequency\n",
            "0   Hotel              5592        0.6\n",
            "1  AirBnB              4276        0.4\n"
          ],
          "name": "stdout"
        }
      ]
    },
    {
      "cell_type": "markdown",
      "metadata": {
        "id": "lYOY-mzpYWVE"
      },
      "source": [
        "#### Graficos de barras"
      ]
    },
    {
      "cell_type": "code",
      "metadata": {
        "colab": {
          "base_uri": "https://localhost:8080/",
          "height": 330
        },
        "id": "P7YezDcDEjgy",
        "outputId": "4d2933c6-2ea1-4eb8-96ba-b3edfb0a35d9"
      },
      "source": [
        "plotBarPerColumns(data_acomodation, cat_cols, 4)"
      ],
      "execution_count": null,
      "outputs": [
        {
          "output_type": "display_data",
          "data": {
            "image/png": "[encoded data removed]",
            "text/plain": [
              "<Figure size 960x320 with 4 Axes>"
            ]
          },
          "metadata": {
            "tags": []
          }
        }
      ]
    },
    {
      "cell_type": "markdown",
      "metadata": {
        "id": "SGWkOdyUDuEb"
      },
      "source": [
        "En estos encontramos que en las variables categoricas, estan distribuidas de manera muy uniforme, sin tener algúna que sea predominante, en cada categoria"
      ]
    },
    {
      "cell_type": "markdown",
      "metadata": {
        "id": "-LtKaH4wZ4Ik"
      },
      "source": [
        "#### Grafico Histograma"
      ]
    },
    {
      "cell_type": "code",
      "metadata": {
        "colab": {
          "base_uri": "https://localhost:8080/",
          "height": 330
        },
        "id": "1Eo9qfulYYsg",
        "outputId": "213381b3-f160-4a4c-bebd-e8a12f050991"
      },
      "source": [
        "plotHistPerColumns(data_acomodation, num_cols, 2)"
      ],
      "execution_count": null,
      "outputs": [
        {
          "output_type": "display_data",
          "data": {
            "image/png": "[encoded data removed]",
            "text/plain": [
              "<Figure size 480x320 with 2 Axes>"
            ]
          },
          "metadata": {
            "tags": []
          }
        }
      ]
    },
    {
      "cell_type": "markdown",
      "metadata": {
        "id": "-j-UhBxSEN_5"
      },
      "source": [
        "Vemos que la `duracion_estadia` tiene un comportamiento **right skewed**, y el comportamiento de la `edad` es aparentemente simetrico-"
      ]
    },
    {
      "cell_type": "markdown",
      "metadata": {
        "id": "sSP9I3NYAg04"
      },
      "source": [
        "### 3. Analisis bivariado\n",
        "\n",
        "Analisis mediante el cual encontraremos la relación entre dos variables.\n",
        "\n",
        "Se puede usar para ver la combinación entre varios tipos de variables.\n",
        "\n",
        "#### Continuas & continuas\n",
        "\n",
        "Miramos los graficos de dispersión y la correlación entre variables.\n",
        "\n",
        "#### Categoricas & Categoricas\n",
        "\n",
        "Podemos mirar por:\n",
        "* Tablas de dos vías\n",
        "* Stacked column Chart\n",
        "* Chi-Square test\n",
        "\n",
        "#### Categoricas & Continuas\n",
        "\n",
        "* Z-Test/T-test"
      ]
    },
    {
      "cell_type": "markdown",
      "metadata": {
        "id": "qdM9ELn_KkIt"
      },
      "source": [
        "Debido a que nuestro interes es principalmente con, la columna `tipo_acomodacion`, realizaremos comparaciones con esta variable.\n"
      ]
    },
    {
      "cell_type": "code",
      "metadata": {
        "id": "nm7W7lolYYwj"
      },
      "source": [
        "data_acomodation['ones'] = 1"
      ],
      "execution_count": null,
      "outputs": []
    },
    {
      "cell_type": "code",
      "metadata": {
        "colab": {
          "base_uri": "https://localhost:8080/"
        },
        "id": "TpgLxGdzpinA",
        "outputId": "570cf722-322d-4140-b150-c0a44e9790ac"
      },
      "source": [
        "df1 = data_acomodation.groupby([ 'tipo_acomodacion' ,'genero'])['ones'].count()\n",
        "df2 = data_acomodation.groupby( 'tipo_acomodacion')['ones'].count()\n",
        "acomodation_by_gender = df1/df2*100\n",
        "acomodation_by_gender.rename('porcentaje')"
      ],
      "execution_count": null,
      "outputs": [
        {
          "output_type": "execute_result",
          "data": {
            "text/plain": [
              "tipo_acomodacion  genero\n",
              "AirBnB            F        49.7\n",
              "                  M        50.3\n",
              "Hotel             F        51.1\n",
              "                  M        48.9\n",
              "Name: porcentaje, dtype: float64"
            ]
          },
          "metadata": {
            "tags": []
          },
          "execution_count": 146
        }
      ]
    },
    {
      "cell_type": "code",
      "metadata": {
        "id": "Qss3OrQ1YY34",
        "colab": {
          "base_uri": "https://localhost:8080/"
        },
        "outputId": "ecb5d7e6-24b1-4b58-f60d-9cfb6493671b"
      },
      "source": [
        "df1 = data_acomodation.groupby(['genero', 'tipo_acomodacion'])['ones'].count()\n",
        "df2 = data_acomodation.groupby('genero')['ones'].count()\n",
        "acomodation_by_gender = df1/df2*100\n",
        "acomodation_by_gender.rename('porcentaje')"
      ],
      "execution_count": null,
      "outputs": [
        {
          "output_type": "execute_result",
          "data": {
            "text/plain": [
              "genero  tipo_acomodacion\n",
              "F       AirBnB             42.6\n",
              "        Hotel              57.4\n",
              "M       AirBnB             44.0\n",
              "        Hotel              56.0\n",
              "Name: porcentaje, dtype: float64"
            ]
          },
          "metadata": {
            "tags": []
          },
          "execution_count": 142
        }
      ]
    },
    {
      "cell_type": "code",
      "metadata": {
        "colab": {
          "base_uri": "https://localhost:8080/"
        },
        "id": "A1RFOFI_os1I",
        "outputId": "558dc664-1440-4d09-d286-be079df754b5"
      },
      "source": [
        "print(57.4 - 42.6)\n",
        "print(56.0 - 44.0)"
      ],
      "execution_count": null,
      "outputs": [
        {
          "output_type": "stream",
          "text": [
            "14.799999999999997\n",
            "12.0\n"
          ],
          "name": "stdout"
        }
      ]
    },
    {
      "cell_type": "markdown",
      "metadata": {
        "id": "c6ywiKhzQMCF"
      },
      "source": [
        "Podemos evidenciar dos aspectos iteresantes:\n",
        "* Por ambos generos existe una preferencia por el uso de hoteles, teniendo las mujeres una mayor preferencia con un 14.8 % frente al 12.0 % de los hombres.\n",
        "* Adicional podemos evidenciar, que en el uso de AirBnB o de hoteles, no existe una clara diferencia entre generos.\n"
      ]
    },
    {
      "cell_type": "code",
      "metadata": {
        "colab": {
          "base_uri": "https://localhost:8080/"
        },
        "id": "8bV104EiqAqt",
        "outputId": "42f410e9-89ac-4360-c866-fedea9193df5"
      },
      "source": [
        "df1 = data_acomodation.groupby(['tipo_acomodacion', 'ninos'])['ones'].count()\n",
        "df2 = data_acomodation.groupby(['tipo_acomodacion'])['ones'].count()\n",
        "acomodation_by_kids = df1/df2*100\n",
        "acomodation_by_kids.rename('porcentaje')"
      ],
      "execution_count": null,
      "outputs": [
        {
          "output_type": "execute_result",
          "data": {
            "text/plain": [
              "tipo_acomodacion  ninos\n",
              "AirBnB            0       44.2\n",
              "                  1       46.1\n",
              "Hotel             0       45.1\n",
              "                  1       45.0\n",
              "Name: porcentaje, dtype: float64"
            ]
          },
          "metadata": {
            "tags": []
          },
          "execution_count": 147
        }
      ]
    },
    {
      "cell_type": "code",
      "metadata": {
        "id": "_Uip3KT-YY0H",
        "colab": {
          "base_uri": "https://localhost:8080/"
        },
        "outputId": "907b7555-dbda-440d-9ace-8a4ae0ebe4d8"
      },
      "source": [
        "df1 = data_acomodation.groupby(['ninos','tipo_acomodacion'])['ones'].count()\n",
        "df2 = data_acomodation.groupby(['ninos'])['ones'].count()\n",
        "acomodation_by_kids = df1/df2*100\n",
        "acomodation_by_kids.rename('porcentaje')"
      ],
      "execution_count": null,
      "outputs": [
        {
          "output_type": "execute_result",
          "data": {
            "text/plain": [
              "ninos  tipo_acomodacion\n",
              "0      AirBnB             42.8\n",
              "       Hotel              57.2\n",
              "1      AirBnB             44.0\n",
              "       Hotel              56.0\n",
              "Name: porcentaje, dtype: float64"
            ]
          },
          "metadata": {
            "tags": []
          },
          "execution_count": 144
        }
      ]
    },
    {
      "cell_type": "code",
      "metadata": {
        "colab": {
          "base_uri": "https://localhost:8080/"
        },
        "id": "26juBkKdpTGQ",
        "outputId": "464739f9-3774-4701-8ed5-1070d949ffae"
      },
      "source": [
        "print(57.2 - 42.8)\n",
        "print(56.0 - 44.0)"
      ],
      "execution_count": null,
      "outputs": [
        {
          "output_type": "stream",
          "text": [
            "14.400000000000006\n",
            "12.0\n"
          ],
          "name": "stdout"
        }
      ]
    },
    {
      "cell_type": "markdown",
      "metadata": {
        "id": "1xF9saRoRYh5"
      },
      "source": [
        "Podemos evidenciar dos aspectos iteresantes:\n",
        "* En ambos grupos los que viajan con niños y los que no, existe una mayor preferencia por el uso de hoteles siendo mayor en grupos con niños con una diferencia del 14.4 % frente al 12.0 % de los grupos sin niños.\n",
        "* Adicional podemos evidenciar, que en el uso de AirBnB o de hoteles, no se evidencia una diferencia importante entre sin el grupo tiene o no niños.\n"
      ]
    },
    {
      "cell_type": "code",
      "metadata": {
        "id": "gQMs1KI1YY-o",
        "colab": {
          "base_uri": "https://localhost:8080/"
        },
        "outputId": "6e5cf07e-098f-49c4-f93e-be5280811aa8"
      },
      "source": [
        "df1 = data_acomodation.groupby(['tipo_acomodacion', 'codigo_destino'])['ones'].count().sort_values(ascending = False)\n",
        "df2 = data_acomodation.groupby(['tipo_acomodacion'])['ones'].count()\n",
        "acomodation_by_kids = df1/df2*100\n",
        "acomodation_by_kids.rename('porcentaje')"
      ],
      "execution_count": null,
      "outputs": [
        {
          "output_type": "execute_result",
          "data": {
            "text/plain": [
              "tipo_acomodacion  codigo_destino\n",
              "Hotel             US               11.9\n",
              "                  AR               11.7\n",
              "                  IT               11.5\n",
              "                  UK               11.5\n",
              "                  COL              11.1\n",
              "                  NL               10.9\n",
              "                  PE               10.9\n",
              "                  ES               10.5\n",
              "AirBnB            COL              12.4\n",
              "                  US               11.6\n",
              "                  NL               11.5\n",
              "                  PE               11.4\n",
              "                  ES               11.0\n",
              "                  IT               11.0\n",
              "                  AR               10.6\n",
              "                  UK               10.4\n",
              "Name: porcentaje, dtype: float64"
            ]
          },
          "metadata": {
            "tags": []
          },
          "execution_count": 200
        }
      ]
    },
    {
      "cell_type": "code",
      "metadata": {
        "id": "X38NEO_ux_8z"
      },
      "source": [
        "acomodation_by_kids = acomodation_by_kids.reset_index()\n",
        "acomodation_by_kids = pd.DataFrame(acomodation_by_kids)"
      ],
      "execution_count": null,
      "outputs": []
    },
    {
      "cell_type": "code",
      "metadata": {
        "colab": {
          "base_uri": "https://localhost:8080/"
        },
        "id": "6zAG3hRr0r3l",
        "outputId": "bc1a574b-2f5a-49a0-fd6e-a190a7a9fc2d"
      },
      "source": [
        "print(acomodation_by_kids[acomodation_by_kids['tipo_acomodacion'] == 'Hotel']['ones'].mean())\n",
        "print(acomodation_by_kids[acomodation_by_kids['tipo_acomodacion'] == 'AirBnB']['ones'].mean())"
      ],
      "execution_count": null,
      "outputs": [
        {
          "output_type": "stream",
          "text": [
            "11.239270386266096\n",
            "11.237137511693168\n"
          ],
          "name": "stdout"
        }
      ]
    },
    {
      "cell_type": "code",
      "metadata": {
        "colab": {
          "base_uri": "https://localhost:8080/"
        },
        "id": "X9MKDWWBrQEc",
        "outputId": "0bfbccb4-5dca-4e7b-c8b7-6569e65a2369"
      },
      "source": [
        "df1 = data_acomodation.groupby(['codigo_destino','tipo_acomodacion'])['ones'].count()\n",
        "df2 = data_acomodation.groupby(['codigo_destino'])['ones'].count()\n",
        "acomodation_by_kids = df1/df2*100\n",
        "acomodation_by_kids.rename('porcentaje')"
      ],
      "execution_count": null,
      "outputs": [
        {
          "output_type": "execute_result",
          "data": {
            "text/plain": [
              "codigo_destino  tipo_acomodacion\n",
              "AR              AirBnB             40.8\n",
              "                Hotel              59.2\n",
              "COL             AirBnB             46.1\n",
              "                Hotel              53.9\n",
              "ES              AirBnB             44.6\n",
              "                Hotel              55.4\n",
              "IT              AirBnB             42.2\n",
              "                Hotel              57.8\n",
              "NL              AirBnB             44.5\n",
              "                Hotel              55.5\n",
              "PE              AirBnB             44.5\n",
              "                Hotel              55.5\n",
              "UK              AirBnB             41.0\n",
              "                Hotel              59.0\n",
              "US              AirBnB             42.9\n",
              "                Hotel              57.1\n",
              "Name: porcentaje, dtype: float64"
            ]
          },
          "metadata": {
            "tags": []
          },
          "execution_count": 149
        }
      ]
    },
    {
      "cell_type": "code",
      "metadata": {
        "colab": {
          "base_uri": "https://localhost:8080/"
        },
        "id": "0qDuQ3mXvCQU",
        "outputId": "05c9f638-f2fb-4a4a-df8b-33c83606e0fa"
      },
      "source": [
        "country_list = list(acomodation_by_kids.index)\n",
        "for i in range(len(list(country_list))-1):\n",
        "  if country_list[i][0] == country_list[i + 1][0]:\n",
        "    print(country_list[i][0])\n",
        "    print(acomodation_by_kids[i + 1] - acomodation_by_kids[i])  "
      ],
      "execution_count": null,
      "outputs": [
        {
          "output_type": "stream",
          "text": [
            "AR\n",
            "18.337850045167123\n",
            "COL\n",
            "7.826086956521735\n",
            "ES\n",
            "10.775047258979207\n",
            "IT\n",
            "15.619389587073613\n",
            "NL\n",
            "10.990009082652136\n",
            "PE\n",
            "11.050228310502291\n",
            "UK\n",
            "18.047882136279924\n",
            "US\n",
            "14.211886304909562\n"
          ],
          "name": "stdout"
        }
      ]
    },
    {
      "cell_type": "markdown",
      "metadata": {
        "id": "lP0pzzW-SnsQ"
      },
      "source": [
        "* El pais que mas usa hoteles frente a AirBnB, es `Argentina` con una diferencia entre ambos del 18.33%, seguido de cerca por `Reino Unido` con un 18.04 %, y el pais con la menor diferencia es `Colombia` con un 7.83%\n",
        "* El pais que mas usa AirBnB es `Colombia` con un 12.4 %, con una diferencia sobre la media de 1.16%"
      ]
    },
    {
      "cell_type": "code",
      "metadata": {
        "id": "-Favc95qRaOO"
      },
      "source": [
        "df1 = data_acomodation[data_acomodation['tipo_acomodacion']=='Hotel'].groupby(['genero', 'codigo_destino'])['ones'].count()\n",
        "df2 = data_acomodation[data_acomodation['tipo_acomodacion']=='AirBnB'].groupby(['genero', 'codigo_destino'])['ones'].count()"
      ],
      "execution_count": null,
      "outputs": []
    },
    {
      "cell_type": "code",
      "metadata": {
        "colab": {
          "base_uri": "https://localhost:8080/"
        },
        "id": "mIAPVDJHRaST",
        "outputId": "77fb4d38-004d-44a4-c25d-949561b72313"
      },
      "source": [
        "df3 = data_acomodation[data_acomodation['tipo_acomodacion']=='Hotel'].groupby(['genero'])['ones'].count()\n",
        "hotel_destination_by_gender = df1/df3*100\n",
        "hotel_destination_by_gender.rename('porcentaje')\n",
        "hotel_destination_by_gender"
      ],
      "execution_count": null,
      "outputs": [
        {
          "output_type": "execute_result",
          "data": {
            "text/plain": [
              "genero  codigo_destino\n",
              "F       AR               11.5\n",
              "        COL              10.6\n",
              "        ES               10.5\n",
              "        IT               11.7\n",
              "        NL               10.2\n",
              "        PE               11.5\n",
              "        UK               11.7\n",
              "        US               11.8\n",
              "M       AR               11.9\n",
              "        COL              11.6\n",
              "        ES               10.4\n",
              "        IT               11.3\n",
              "        NL               11.7\n",
              "        PE               10.2\n",
              "        UK               11.2\n",
              "        US               11.9\n",
              "Name: ones, dtype: float64"
            ]
          },
          "metadata": {
            "tags": []
          },
          "execution_count": 70
        }
      ]
    },
    {
      "cell_type": "code",
      "metadata": {
        "colab": {
          "base_uri": "https://localhost:8080/"
        },
        "id": "xiYa3nJXRaWA",
        "outputId": "bbe2a328-c0f9-41e7-e945-60edb0e1fddb"
      },
      "source": [
        "df4 = data_acomodation[data_acomodation['tipo_acomodacion']=='AirBnB'].groupby(['genero'])['ones'].count()\n",
        "Airbnb_destination_by_gender = df2/df4*100\n",
        "Airbnb_destination_by_gender.rename('porcentaje')\n",
        "Airbnb_destination_by_gender"
      ],
      "execution_count": null,
      "outputs": [
        {
          "output_type": "execute_result",
          "data": {
            "text/plain": [
              "genero  codigo_destino\n",
              "F       AR               10.3\n",
              "        COL              12.7\n",
              "        ES               11.3\n",
              "        IT               10.8\n",
              "        NL               11.0\n",
              "        PE               11.6\n",
              "        UK               10.1\n",
              "        US               11.6\n",
              "M       AR               10.8\n",
              "        COL              12.1\n",
              "        ES               10.7\n",
              "        IT               11.2\n",
              "        NL               11.9\n",
              "        PE               11.2\n",
              "        UK               10.7\n",
              "        US               11.7\n",
              "Name: ones, dtype: float64"
            ]
          },
          "metadata": {
            "tags": []
          },
          "execution_count": 74
        }
      ]
    },
    {
      "cell_type": "code",
      "metadata": {
        "colab": {
          "base_uri": "https://localhost:8080/"
        },
        "id": "NK5GXYd2RaZI",
        "outputId": "ceaeff2b-f6cd-45b8-b3bb-4baa0ae955a1"
      },
      "source": [
        "df1 = data_acomodation[data_acomodation['tipo_acomodacion']=='Hotel'].groupby(['genero', 'ninos'])['ones'].count()\n",
        "df2 = data_acomodation[data_acomodation['tipo_acomodacion']=='Hotel'].groupby(['genero'])['ones'].count()\n",
        "Hotel_gender_kids = df1/df2*100\n",
        "Hotel_gender_kids.rename('porcentaje')"
      ],
      "execution_count": null,
      "outputs": [
        {
          "output_type": "execute_result",
          "data": {
            "text/plain": [
              "genero  ninos\n",
              "F       0       45.6\n",
              "        1       44.7\n",
              "M       0       44.5\n",
              "        1       45.3\n",
              "Name: porcentaje, dtype: float64"
            ]
          },
          "metadata": {
            "tags": []
          },
          "execution_count": 93
        }
      ]
    },
    {
      "cell_type": "code",
      "metadata": {
        "colab": {
          "base_uri": "https://localhost:8080/"
        },
        "id": "cnTmKmnzUJYr",
        "outputId": "28b02056-a1e1-49da-ca8d-137a29cfb823"
      },
      "source": [
        "df1 = data_acomodation[data_acomodation['tipo_acomodacion']=='AirBnB'].groupby(['genero', 'ninos'])['ones'].count()\n",
        "df2 = data_acomodation[data_acomodation['tipo_acomodacion']=='AirBnB'].groupby(['genero'])['ones'].count()\n",
        "Airbnb_gender_kids = df1/df2*100\n",
        "Airbnb_gender_kids.rename('porcentaje')"
      ],
      "execution_count": null,
      "outputs": [
        {
          "output_type": "execute_result",
          "data": {
            "text/plain": [
              "genero  ninos\n",
              "F       0       45.5\n",
              "        1       44.2\n",
              "M       0       42.8\n",
              "        1       48.0\n",
              "Name: porcentaje, dtype: float64"
            ]
          },
          "metadata": {
            "tags": []
          },
          "execution_count": 95
        }
      ]
    },
    {
      "cell_type": "code",
      "metadata": {
        "colab": {
          "base_uri": "https://localhost:8080/"
        },
        "id": "2CxEH40CYlxi",
        "outputId": "4efcebab-0fcd-456f-d38e-40bd667aa841"
      },
      "source": [
        "df1 = data_acomodation[data_acomodation['tipo_acomodacion']=='Hotel'].groupby(['ninos', 'codigo_destino'])['ones'].count()\n",
        "df2 = data_acomodation[data_acomodation['tipo_acomodacion']=='Hotel'].groupby(['ninos'])['ones'].count()\n",
        "Hotel_kids_country = df1/df2*100\n",
        "Hotel_kids_country.rename('porcentaje')"
      ],
      "execution_count": null,
      "outputs": [
        {
          "output_type": "execute_result",
          "data": {
            "text/plain": [
              "ninos  codigo_destino\n",
              "0      AR               11.2\n",
              "       COL              11.3\n",
              "       ES               10.5\n",
              "       IT               11.2\n",
              "       NL               10.3\n",
              "       PE               12.0\n",
              "       UK               11.3\n",
              "       US               11.9\n",
              "1      AR               12.2\n",
              "       COL              11.1\n",
              "       ES               10.2\n",
              "       IT               11.9\n",
              "       NL               11.6\n",
              "       PE               10.0\n",
              "       UK               11.4\n",
              "       US               12.0\n",
              "Name: porcentaje, dtype: float64"
            ]
          },
          "metadata": {
            "tags": []
          },
          "execution_count": 107
        }
      ]
    },
    {
      "cell_type": "code",
      "metadata": {
        "colab": {
          "base_uri": "https://localhost:8080/"
        },
        "id": "Jm-StgabYl2B",
        "outputId": "199878e9-12a4-4ab1-c3ad-978fe02b8ae5"
      },
      "source": [
        "df1 = data_acomodation[data_acomodation['tipo_acomodacion']=='AirBnB'].groupby(['ninos', 'codigo_destino'])['ones'].count()\n",
        "df2 = data_acomodation[data_acomodation['tipo_acomodacion']=='AirBnB'].groupby(['ninos'])['ones'].count()\n",
        "AirBnB_kids_country = df1/df2*100\n",
        "AirBnB_kids_country.rename('porcentaje')"
      ],
      "execution_count": null,
      "outputs": [
        {
          "output_type": "execute_result",
          "data": {
            "text/plain": [
              "ninos  codigo_destino\n",
              "0      AR               11.2\n",
              "       COL              13.2\n",
              "       ES               11.7\n",
              "       IT               10.8\n",
              "       NL               10.0\n",
              "       PE               11.7\n",
              "       UK                9.7\n",
              "       US               11.2\n",
              "1      AR                9.8\n",
              "       COL              11.5\n",
              "       ES               10.6\n",
              "       IT               11.6\n",
              "       NL               12.6\n",
              "       PE               11.3\n",
              "       UK               10.8\n",
              "       US               12.3\n",
              "Name: porcentaje, dtype: float64"
            ]
          },
          "metadata": {
            "tags": []
          },
          "execution_count": 111
        }
      ]
    },
    {
      "cell_type": "code",
      "metadata": {
        "colab": {
          "base_uri": "https://localhost:8080/",
          "height": 328
        },
        "id": "yDdREErzYl6S",
        "outputId": "9015c6a5-4c4c-4d0d-a7ba-6c7ca6bd9f60"
      },
      "source": [
        "AirBnB_kids_country.plot(kind='bar')"
      ],
      "execution_count": null,
      "outputs": [
        {
          "output_type": "execute_result",
          "data": {
            "text/plain": [
              "<matplotlib.axes._subplots.AxesSubplot at 0x7f708c6308d0>"
            ]
          },
          "metadata": {
            "tags": []
          },
          "execution_count": 112
        },
        {
          "output_type": "display_data",
          "data": {
            "image/png": "[encoded data removed]",
            "text/plain": [
              "<Figure size 432x288 with 1 Axes>"
            ]
          },
          "metadata": {
            "tags": [],
            "needs_background": "light"
          }
        }
      ]
    },
    {
      "cell_type": "markdown",
      "metadata": {
        "id": "RurZ50E-afTO"
      },
      "source": [
        "Esta forma muestra una tendencia interesante puesto que existe una tendencia en Colombia, que se prefiere una reserva en AirBnB que en un Hotel.\n"
      ]
    },
    {
      "cell_type": "code",
      "metadata": {
        "colab": {
          "base_uri": "https://localhost:8080/"
        },
        "id": "52v4wThKYl97",
        "outputId": "2e2fc6e9-4435-46d1-9de6-ee6c00b0b474"
      },
      "source": [
        "condition = (data_acomodation['codigo_destino'] == 'COL')\n",
        "df1 = data_acomodation[condition].groupby(['ninos', 'tipo_acomodacion'])['ones'].count()\n",
        "df2 = data_acomodation[condition].groupby(['ninos'])['ones'].count()\n",
        "col_kids_acomodation = df1/df2 * 100\n",
        "col_kids_acomodation"
      ],
      "execution_count": null,
      "outputs": [
        {
          "output_type": "execute_result",
          "data": {
            "text/plain": [
              "ninos  tipo_acomodacion\n",
              "0      AirBnB             46.7\n",
              "       Hotel              53.3\n",
              "1      AirBnB             45.0\n",
              "       Hotel              55.0\n",
              "Name: ones, dtype: float64"
            ]
          },
          "metadata": {
            "tags": []
          },
          "execution_count": 122
        }
      ]
    },
    {
      "cell_type": "code",
      "metadata": {
        "colab": {
          "base_uri": "https://localhost:8080/"
        },
        "id": "s6XIhHoUYmBr",
        "outputId": "47c66e84-99e3-44df-92ea-96cd78108bee"
      },
      "source": [
        "condition = (data_acomodation['codigo_destino'] == 'COL')\n",
        "df1 = data_acomodation[condition].groupby(['tipo_acomodacion', 'ninos'])['ones'].count()\n",
        "df2 = data_acomodation[condition].groupby(['tipo_acomodacion'])['ones'].count()\n",
        "col_kids_acomodation = df1/df2 * 100\n",
        "col_kids_acomodation"
      ],
      "execution_count": null,
      "outputs": [
        {
          "output_type": "execute_result",
          "data": {
            "text/plain": [
              "tipo_acomodacion  ninos\n",
              "AirBnB            0       47.0\n",
              "                  1       42.8\n",
              "Hotel             0       45.8\n",
              "                  1       44.8\n",
              "Name: ones, dtype: float64"
            ]
          },
          "metadata": {
            "tags": []
          },
          "execution_count": 127
        }
      ]
    },
    {
      "cell_type": "code",
      "metadata": {
        "colab": {
          "base_uri": "https://localhost:8080/",
          "height": 342
        },
        "id": "qac4VC23ctwT",
        "outputId": "e9bd3b33-15fb-4c9c-8b58-ec49322b6a60"
      },
      "source": [
        "col_kids_acomodation.plot(kind='bar')"
      ],
      "execution_count": null,
      "outputs": [
        {
          "output_type": "execute_result",
          "data": {
            "text/plain": [
              "<matplotlib.axes._subplots.AxesSubplot at 0x7f708c3430d0>"
            ]
          },
          "metadata": {
            "tags": []
          },
          "execution_count": 126
        },
        {
          "output_type": "display_data",
          "data": {
            "image/png": "[encoded data removed]",
            "text/plain": [
              "<Figure size 432x288 with 1 Axes>"
            ]
          },
          "metadata": {
            "tags": [],
            "needs_background": "light"
          }
        }
      ]
    },
    {
      "cell_type": "code",
      "metadata": {
        "colab": {
          "base_uri": "https://localhost:8080/"
        },
        "id": "LOuN_yGTc7Bt",
        "outputId": "b4a0c93a-b242-41a8-da8b-7b72c35dc90e"
      },
      "source": [
        "df1 / data_acomodation[condition]['ones'].count() * 100"
      ],
      "execution_count": null,
      "outputs": [
        {
          "output_type": "execute_result",
          "data": {
            "text/plain": [
              "tipo_acomodacion  ninos\n",
              "AirBnB            0       21.7\n",
              "                  1       19.7\n",
              "Hotel             0       24.7\n",
              "                  1       24.2\n",
              "Name: ones, dtype: float64"
            ]
          },
          "metadata": {
            "tags": []
          },
          "execution_count": 131
        }
      ]
    },
    {
      "cell_type": "markdown",
      "metadata": {
        "id": "w52ZnGs4coNh"
      },
      "source": [
        "Podemos evidencias que existe una disminucion en la tendencia, de realizar la reserva en AirBnB si se tienen hijos en Colombia."
      ]
    },
    {
      "cell_type": "code",
      "metadata": {
        "colab": {
          "base_uri": "https://localhost:8080/"
        },
        "id": "z8JAQsW4YmFE",
        "outputId": "8a154302-46d5-413c-9c08-9a46ed195271"
      },
      "source": [
        "countries = list(data_acomodation['codigo_destino'].value_counts().index)\n",
        "countries"
      ],
      "execution_count": null,
      "outputs": [
        {
          "output_type": "execute_result",
          "data": {
            "text/plain": [
              "['US', 'COL', 'IT', 'AR', 'NL', 'PE', 'UK', 'ES']"
            ]
          },
          "metadata": {
            "tags": []
          },
          "execution_count": 138
        }
      ]
    },
    {
      "cell_type": "code",
      "metadata": {
        "colab": {
          "base_uri": "https://localhost:8080/"
        },
        "id": "OItjJPKaYmIp",
        "outputId": "162775ac-a738-4029-8e78-6112e79ef38c"
      },
      "source": [
        "for country in countries:\n",
        "  print('='*40)\n",
        "  print(country)\n",
        "  print('Tabla de niños vs tipo de acomodacion')\n",
        "  condition = (data_acomodation['codigo_destino'] == country)\n",
        "  df1 = data_acomodation[condition].groupby(['ninos', 'tipo_acomodacion'])['ones'].count()\n",
        "  df2 = data_acomodation[condition].groupby(['ninos'])['ones'].count()\n",
        "  col_kids_acomodation = df1/df2 * 100\n",
        "  print(col_kids_acomodation)\n",
        "  print('Tabla de tipo de acomodacio vs niños')\n",
        "  df1 = data_acomodation[condition].groupby(['tipo_acomodacion', 'ninos'])['ones'].count()\n",
        "  df2 = data_acomodation[condition].groupby(['tipo_acomodacion'])['ones'].count()\n",
        "  col_kids_acomodation = df1/df2 * 100\n",
        "  print(col_kids_acomodation)\n",
        "  print('Tabla de tipo de acomodacio(Total) vs niños')\n",
        "  col_kids_acomodation = df1 / data_acomodation[condition]['ones'].count() * 100\n",
        "  print(col_kids_acomodation)"
      ],
      "execution_count": null,
      "outputs": [
        {
          "output_type": "stream",
          "text": [
            "========================================\n",
            "US\n",
            "Tabla de niños vs tipo de acomodacion\n",
            "ninos  tipo_acomodacion\n",
            "0      AirBnB             41.4\n",
            "       Hotel              58.6\n",
            "1      AirBnB             44.6\n",
            "       Hotel              55.4\n",
            "Name: ones, dtype: float64\n",
            "Tabla de tipo de acomodacio vs niños\n",
            "tipo_acomodacion  ninos\n",
            "AirBnB            0       42.4\n",
            "                  1       48.6\n",
            "Hotel             0       45.1\n",
            "                  1       45.4\n",
            "Name: ones, dtype: float64\n",
            "Tabla de tipo de acomodacio(Total) vs niños\n",
            "tipo_acomodacion  ninos\n",
            "AirBnB            0       18.2\n",
            "                  1       20.8\n",
            "Hotel             0       25.8\n",
            "                  1       25.9\n",
            "Name: ones, dtype: float64\n",
            "========================================\n",
            "COL\n",
            "Tabla de niños vs tipo de acomodacion\n",
            "ninos  tipo_acomodacion\n",
            "0      AirBnB             46.7\n",
            "       Hotel              53.3\n",
            "1      AirBnB             45.0\n",
            "       Hotel              55.0\n",
            "Name: ones, dtype: float64\n",
            "Tabla de tipo de acomodacio vs niños\n",
            "tipo_acomodacion  ninos\n",
            "AirBnB            0       47.0\n",
            "                  1       42.8\n",
            "Hotel             0       45.8\n",
            "                  1       44.8\n",
            "Name: ones, dtype: float64\n",
            "Tabla de tipo de acomodacio(Total) vs niños\n",
            "tipo_acomodacion  ninos\n",
            "AirBnB            0       21.7\n",
            "                  1       19.7\n",
            "Hotel             0       24.7\n",
            "                  1       24.2\n",
            "Name: ones, dtype: float64\n",
            "========================================\n",
            "IT\n",
            "Tabla de niños vs tipo de acomodacion\n",
            "ninos  tipo_acomodacion\n",
            "0      AirBnB             41.9\n",
            "       Hotel              58.1\n",
            "1      AirBnB             43.3\n",
            "       Hotel              56.7\n",
            "Name: ones, dtype: float64\n",
            "Tabla de tipo de acomodacio vs niños\n",
            "tipo_acomodacion  ninos\n",
            "AirBnB            0       43.2\n",
            "                  1       48.5\n",
            "Hotel             0       43.8\n",
            "                  1       46.4\n",
            "Name: ones, dtype: float64\n",
            "Tabla de tipo de acomodacio(Total) vs niños\n",
            "tipo_acomodacion  ninos\n",
            "AirBnB            0       18.2\n",
            "                  1       20.5\n",
            "Hotel             0       25.3\n",
            "                  1       26.8\n",
            "Name: ones, dtype: float64\n",
            "========================================\n",
            "AR\n",
            "Tabla de niños vs tipo de acomodacion\n",
            "ninos  tipo_acomodacion\n",
            "0      AirBnB             42.8\n",
            "       Hotel              57.2\n",
            "1      AirBnB             38.7\n",
            "       Hotel              61.3\n",
            "Name: ones, dtype: float64\n",
            "Tabla de tipo de acomodacio vs niños\n",
            "tipo_acomodacion  ninos\n",
            "AirBnB            0       46.7\n",
            "                  1       42.9\n",
            "Hotel             0       43.1\n",
            "                  1       46.9\n",
            "Name: ones, dtype: float64\n",
            "Tabla de tipo de acomodacio(Total) vs niños\n",
            "tipo_acomodacion  ninos\n",
            "AirBnB            0       19.1\n",
            "                  1       17.5\n",
            "Hotel             0       25.5\n",
            "                  1       27.7\n",
            "Name: ones, dtype: float64\n",
            "========================================\n",
            "NL\n",
            "Tabla de niños vs tipo de acomodacion\n",
            "ninos  tipo_acomodacion\n",
            "0      AirBnB             42.2\n",
            "       Hotel              57.8\n",
            "1      AirBnB             46.0\n",
            "       Hotel              54.0\n",
            "Name: ones, dtype: float64\n",
            "Tabla de tipo de acomodacio vs niños\n",
            "tipo_acomodacion  ninos\n",
            "AirBnB            0       38.6\n",
            "                  1       50.8\n",
            "Hotel             0       42.4\n",
            "                  1       47.8\n",
            "Name: ones, dtype: float64\n",
            "Tabla de tipo de acomodacio(Total) vs niños\n",
            "tipo_acomodacion  ninos\n",
            "AirBnB            0       17.2\n",
            "                  1       22.6\n",
            "Hotel             0       23.5\n",
            "                  1       26.5\n",
            "Name: ones, dtype: float64\n",
            "========================================\n",
            "PE\n",
            "Tabla de niños vs tipo de acomodacion\n",
            "ninos  tipo_acomodacion\n",
            "0      AirBnB             42.2\n",
            "       Hotel              57.8\n",
            "1      AirBnB             46.9\n",
            "       Hotel              53.1\n",
            "Name: ones, dtype: float64\n",
            "Tabla de tipo de acomodacio vs niños\n",
            "tipo_acomodacion  ninos\n",
            "AirBnB            0       45.4\n",
            "                  1       45.8\n",
            "Hotel             0       49.8\n",
            "                  1       41.4\n",
            "Name: ones, dtype: float64\n",
            "Tabla de tipo de acomodacio(Total) vs niños\n",
            "tipo_acomodacion  ninos\n",
            "AirBnB            0       20.2\n",
            "                  1       20.4\n",
            "Hotel             0       27.7\n",
            "                  1       23.0\n",
            "Name: ones, dtype: float64\n",
            "========================================\n",
            "UK\n",
            "Tabla de niños vs tipo de acomodacion\n",
            "ninos  tipo_acomodacion\n",
            "0      AirBnB             39.3\n",
            "       Hotel              60.7\n",
            "1      AirBnB             42.7\n",
            "       Hotel              57.3\n",
            "Name: ones, dtype: float64\n",
            "Tabla de tipo de acomodacio vs niños\n",
            "tipo_acomodacion  ninos\n",
            "AirBnB            0       41.3\n",
            "                  1       47.9\n",
            "Hotel             0       44.3\n",
            "                  1       44.6\n",
            "Name: ones, dtype: float64\n",
            "Tabla de tipo de acomodacio(Total) vs niños\n",
            "tipo_acomodacion  ninos\n",
            "AirBnB            0       16.9\n",
            "                  1       19.6\n",
            "Hotel             0       26.2\n",
            "                  1       26.3\n",
            "Name: ones, dtype: float64\n",
            "========================================\n",
            "ES\n",
            "Tabla de niños vs tipo de acomodacion\n",
            "ninos  tipo_acomodacion\n",
            "0      AirBnB             45.5\n",
            "       Hotel              54.5\n",
            "1      AirBnB             44.8\n",
            "       Hotel              55.2\n",
            "Name: ones, dtype: float64\n",
            "Tabla de tipo de acomodacio vs niños\n",
            "tipo_acomodacion  ninos\n",
            "AirBnB            0       46.8\n",
            "                  1       44.3\n",
            "Hotel             0       45.2\n",
            "                  1       43.9\n",
            "Name: ones, dtype: float64\n",
            "Tabla de tipo de acomodacio(Total) vs niños\n",
            "tipo_acomodacion  ninos\n",
            "AirBnB            0       20.9\n",
            "                  1       19.8\n",
            "Hotel             0       25.0\n",
            "                  1       24.3\n",
            "Name: ones, dtype: float64\n"
          ],
          "name": "stdout"
        }
      ]
    },
    {
      "cell_type": "markdown",
      "metadata": {
        "id": "dIc9cfLZ3Caf"
      },
      "source": [
        "Encontramos que debido a se prefiere en general, el uso de Hoteles a AirBnB, cada categorizacion presenta una inclinacion al uso de hoteles. Sin embargo dentro de los grupos que escogieron alguna opcion, en las categorias no se presenta una tendencia predominante por alguna. Sin embargo se presenta una tendencia en Colombia en Colombia superior a otros paises, en escoger AirBnB cuando no hay niños en el grupo"
      ]
    },
    {
      "cell_type": "code",
      "metadata": {
        "id": "7hfBJbfPYmMK"
      },
      "source": [
        ""
      ],
      "execution_count": null,
      "outputs": []
    },
    {
      "cell_type": "code",
      "metadata": {
        "id": "NHfGAEtmUJca"
      },
      "source": [
        ""
      ],
      "execution_count": null,
      "outputs": []
    },
    {
      "cell_type": "code",
      "metadata": {
        "id": "WrQa1jkZp9g6"
      },
      "source": [
        ""
      ],
      "execution_count": null,
      "outputs": []
    }
  ]
}