{
  "nbformat": 4,
  "nbformat_minor": 0,
  "metadata": {
    "colab": {
      "name": "1.Data_Understanding-Data_Description.ipynb",
      "provenance": [],
      "collapsed_sections": []
    },
    "kernelspec": {
      "name": "python3",
      "display_name": "Python 3"
    },
    "language_info": {
      "name": "python"
    }
  },
  "cells": [
    {
      "cell_type": "markdown",
      "metadata": {
        "id": "RWDxi_pwN_ij"
      },
      "source": [
        "# Data Understanding"
      ]
    },
    {
      "cell_type": "code",
      "metadata": {
        "colab": {
          "base_uri": "https://localhost:8080/"
        },
        "id": "h5jinOxzNl4D",
        "outputId": "90b0e747-e642-48fa-a823-90c2487deaa6"
      },
      "source": [
        "from google.colab import drive\n",
        "drive.mount('/content/drive')"
      ],
      "execution_count": null,
      "outputs": [
        {
          "output_type": "stream",
          "text": [
            "Mounted at /content/drive\n"
          ],
          "name": "stdout"
        }
      ]
    },
    {
      "cell_type": "code",
      "metadata": {
        "colab": {
          "base_uri": "https://localhost:8080/"
        },
        "id": "byjyOVigN-SJ",
        "outputId": "6717a0b1-619f-4c76-f14f-7f2f14b00d73"
      },
      "source": [
        "%cd '/content/drive/My Drive/Colab Notebooks/PlatziMaster/Proyecto Agencia de Viajes/datasets'\n",
        "!ls"
      ],
      "execution_count": null,
      "outputs": [
        {
          "output_type": "stream",
          "text": [
            "/content/drive/My Drive/Colab Notebooks/PlatziMaster/Proyecto Agencia de Viajes/datasets\n",
            "DataAcomodacion.csv  funciones_auxiliares.ipynb  train_data.txt\n"
          ],
          "name": "stdout"
        }
      ]
    },
    {
      "cell_type": "markdown",
      "metadata": {
        "id": "NYTOf5FXPOnE"
      },
      "source": [
        "## Dependencias"
      ]
    },
    {
      "cell_type": "code",
      "metadata": {
        "colab": {
          "base_uri": "https://localhost:8080/",
          "height": 35
        },
        "id": "4XF64xo0PKs_",
        "outputId": "6efb3658-3961-45e4-ea42-641dffa53d83"
      },
      "source": [
        "import pandas as pd\n",
        "import numpy as np\n",
        "import csv\n",
        "pd.__version__"
      ],
      "execution_count": null,
      "outputs": [
        {
          "output_type": "execute_result",
          "data": {
            "application/vnd.google.colaboratory.intrinsic+json": {
              "type": "string"
            },
            "text/plain": [
              "'1.1.5'"
            ]
          },
          "metadata": {
            "tags": []
          },
          "execution_count": 11
        }
      ]
    },
    {
      "cell_type": "markdown",
      "metadata": {
        "id": "-TM0me4pPB9v"
      },
      "source": [
        "## Carga de Datos"
      ]
    },
    {
      "cell_type": "code",
      "metadata": {
        "id": "m1nqNRAhXALg"
      },
      "source": [
        "%run funciones_auxiliares.ipynb"
      ],
      "execution_count": null,
      "outputs": []
    },
    {
      "cell_type": "code",
      "metadata": {
        "id": "2w62qVHEPBZw"
      },
      "source": [
        "f = open(\"train_data.txt\", \"r\")\n",
        "data_acomodation = load_data(f)"
      ],
      "execution_count": null,
      "outputs": []
    },
    {
      "cell_type": "code",
      "metadata": {
        "colab": {
          "base_uri": "https://localhost:8080/",
          "height": 217
        },
        "id": "rhVNtHYsN-do",
        "outputId": "0b3a319e-5a70-4659-d89a-843a0dcce4b2"
      },
      "source": [
        "data_acomodation.head()"
      ],
      "execution_count": null,
      "outputs": [
        {
          "output_type": "execute_result",
          "data": {
            "text/html": [
              "<div>\n",
              "<style scoped>\n",
              "    .dataframe tbody tr th:only-of-type {\n",
              "        vertical-align: middle;\n",
              "    }\n",
              "\n",
              "    .dataframe tbody tr th {\n",
              "        vertical-align: top;\n",
              "    }\n",
              "\n",
              "    .dataframe thead th {\n",
              "        text-align: right;\n",
              "    }\n",
              "</style>\n",
              "<table border=\"1\" class=\"dataframe\">\n",
              "  <thead>\n",
              "    <tr style=\"text-align: right;\">\n",
              "      <th></th>\n",
              "      <th>id_viaje</th>\n",
              "      <th>duracion_estadia</th>\n",
              "      <th>genero</th>\n",
              "      <th>edad</th>\n",
              "      <th>ninos</th>\n",
              "      <th>codigo_destino</th>\n",
              "      <th>tipo_acomodacion</th>\n",
              "    </tr>\n",
              "  </thead>\n",
              "  <tbody>\n",
              "    <tr>\n",
              "      <th>0</th>\n",
              "      <td>1010286</td>\n",
              "      <td>7</td>\n",
              "      <td>F</td>\n",
              "      <td>40</td>\n",
              "      <td>0</td>\n",
              "      <td>COL</td>\n",
              "      <td>AirBnB</td>\n",
              "    </tr>\n",
              "    <tr>\n",
              "      <th>1</th>\n",
              "      <td>1000152</td>\n",
              "      <td>5</td>\n",
              "      <td>M</td>\n",
              "      <td>NaN</td>\n",
              "      <td>0</td>\n",
              "      <td>NaN</td>\n",
              "      <td>AirBnB</td>\n",
              "    </tr>\n",
              "    <tr>\n",
              "      <th>2</th>\n",
              "      <td>1009019</td>\n",
              "      <td>4</td>\n",
              "      <td>F</td>\n",
              "      <td>39</td>\n",
              "      <td>1</td>\n",
              "      <td>ES</td>\n",
              "      <td>Hotel</td>\n",
              "    </tr>\n",
              "    <tr>\n",
              "      <th>3</th>\n",
              "      <td>1007840</td>\n",
              "      <td>5</td>\n",
              "      <td>F</td>\n",
              "      <td>45</td>\n",
              "      <td>0</td>\n",
              "      <td>NL</td>\n",
              "      <td>Hotel</td>\n",
              "    </tr>\n",
              "    <tr>\n",
              "      <th>4</th>\n",
              "      <td>1006939</td>\n",
              "      <td>5</td>\n",
              "      <td>M</td>\n",
              "      <td>45</td>\n",
              "      <td>1</td>\n",
              "      <td>UK</td>\n",
              "      <td>Hotel</td>\n",
              "    </tr>\n",
              "  </tbody>\n",
              "</table>\n",
              "</div>"
            ],
            "text/plain": [
              "  id_viaje duracion_estadia genero edad ninos codigo_destino tipo_acomodacion\n",
              "0  1010286                7      F   40     0            COL           AirBnB\n",
              "1  1000152                5      M  NaN     0            NaN           AirBnB\n",
              "2  1009019                4      F   39     1             ES            Hotel\n",
              "3  1007840                5      F   45     0             NL            Hotel\n",
              "4  1006939                5      M   45     1             UK            Hotel"
            ]
          },
          "metadata": {
            "tags": []
          },
          "execution_count": 122
        }
      ]
    },
    {
      "cell_type": "markdown",
      "metadata": {
        "id": "jCDRV9Bzdosc"
      },
      "source": [
        "## Descripcion de los Datos "
      ]
    },
    {
      "cell_type": "markdown",
      "metadata": {
        "id": "dN1tU-gqduGZ"
      },
      "source": [
        "### Cantidad de Datos\n",
        "\n",
        "En la mayoría de técnicas de modelado, los tamaños de datos tienen un equilibrio relacionado. Los grandes conjuntos de datos pueden producir modelos más precisos, pero también pueden aumentar el tiempo de procesamiento. Considere utilizar un subconjunto de datos. Cuando tome notas para el informe final, asegúrese de incluir estadísticos de tamaños para todos los conjuntos de datos y recuerde tener en cuenta tanto el número de registros como los campos (atributos) cuando describa los datos."
      ]
    },
    {
      "cell_type": "code",
      "metadata": {
        "colab": {
          "base_uri": "https://localhost:8080/"
        },
        "id": "behMX9hYdthd",
        "outputId": "13f7db5e-6973-4579-b871-30f7221828ac"
      },
      "source": [
        "#tamaño del dataset\n",
        "data_acomodation.shape"
      ],
      "execution_count": null,
      "outputs": [
        {
          "output_type": "execute_result",
          "data": {
            "text/plain": [
              "(9868, 7)"
            ]
          },
          "metadata": {
            "tags": []
          },
          "execution_count": 106
        }
      ]
    },
    {
      "cell_type": "markdown",
      "metadata": {
        "id": "5k6m1RuCEfXF"
      },
      "source": [
        ""
      ]
    },
    {
      "cell_type": "markdown",
      "metadata": {
        "id": "jVa2oThJeGTM"
      },
      "source": [
        "Vemos que tenemos 9868 filas y 7 columnas"
      ]
    },
    {
      "cell_type": "markdown",
      "metadata": {
        "id": "oOZNJM1xeR2M"
      },
      "source": [
        "### Tipos de Valores\n",
        "\n",
        "Los datos pueden incluir una variedad de formatos, como numérico, categórico (cadena) o Booleano (verdadero/falso). Si presta atención al tipo de valor puede evitar posteriores problemas durante la fase de modelado."
      ]
    },
    {
      "cell_type": "code",
      "metadata": {
        "colab": {
          "base_uri": "https://localhost:8080/"
        },
        "id": "8MIBe0Hoc3fe",
        "outputId": "05448b8f-6476-4e0c-b5ea-d8334ec33770"
      },
      "source": [
        "data_acomodation.info()"
      ],
      "execution_count": null,
      "outputs": [
        {
          "output_type": "stream",
          "text": [
            "<class 'pandas.core.frame.DataFrame'>\n",
            "Int64Index: 9868 entries, 0 to 9867\n",
            "Data columns (total 7 columns):\n",
            " #   Column            Non-Null Count  Dtype   \n",
            "---  ------            --------------  -----   \n",
            " 0   id_viaje          9868 non-null   int64   \n",
            " 1   duracion_estadia  9868 non-null   int64   \n",
            " 2   genero            9868 non-null   category\n",
            " 3   edad              8874 non-null   object  \n",
            " 4   ninos             8897 non-null   object  \n",
            " 5   codigo_destino    8872 non-null   object  \n",
            " 6   tipo_acomodacion  9868 non-null   object  \n",
            "dtypes: category(1), int64(2), object(4)\n",
            "memory usage: 549.4+ KB\n"
          ],
          "name": "stdout"
        }
      ]
    },
    {
      "cell_type": "code",
      "metadata": {
        "id": "suDw1gDSdoKK"
      },
      "source": [
        "data_acomodation['id_viaje'] = data_acomodation['id_viaje'].astype(int)\n",
        "data_acomodation['duracion_estadia'] = data_acomodation['duracion_estadia'].astype(int)\n",
        "data_acomodation['edad'] = data_acomodation['edad'].astype(int, errors='ignore')\n",
        "data_acomodation['genero'] = data_acomodation['genero'].astype('category')\n",
        "data_acomodation['ninos'] = data_acomodation['ninos'].astype(int, errors = 'ignore')"
      ],
      "execution_count": null,
      "outputs": []
    },
    {
      "cell_type": "markdown",
      "metadata": {
        "id": "orJPm99dl9N3"
      },
      "source": [
        "Inicialmente tenemos todas las variable de tipo `object`, de modo que realizamos la conversion mas adecuada para el analisis. "
      ]
    },
    {
      "cell_type": "markdown",
      "metadata": {
        "id": "mOkj6mtYmo43"
      },
      "source": [
        "### Esquemas de codificación\n",
        "\n",
        "Con frecuencia, los valores de la base de datos son representaciones de características como género o tipo de producto. Por ejemplo, un conjunto de datos puede utilizar H y M para representar hombre y mujer, mientras que otro puede utilizar los valores numéricos 1 y 2. Observe cualquier esquema conflictivo en el informe de datos."
      ]
    },
    {
      "cell_type": "code",
      "metadata": {
        "colab": {
          "base_uri": "https://localhost:8080/"
        },
        "id": "lVZaGrgwfRHr",
        "outputId": "c39a6c23-ba35-4f53-80fe-d221e0107aa2"
      },
      "source": [
        "data_acomodation.nunique()"
      ],
      "execution_count": null,
      "outputs": [
        {
          "output_type": "execute_result",
          "data": {
            "text/plain": [
              "id_viaje            9868\n",
              "duracion_estadia      13\n",
              "genero                 2\n",
              "edad                  37\n",
              "ninos                  2\n",
              "codigo_destino         8\n",
              "tipo_acomodacion       2\n",
              "dtype: int64"
            ]
          },
          "metadata": {
            "tags": []
          },
          "execution_count": 117
        }
      ]
    },
    {
      "cell_type": "markdown",
      "metadata": {
        "id": "8HcWZOCKnEZU"
      },
      "source": [
        "Del analisis podemos verificar que los tipos de datos que tenemos:\n",
        "* `id_viaje`: es de tipo cuantitativo discreto\n",
        "* `duracion_estadia`: es de tipo cuantitativo discreto\n",
        "* `genero`: es de tipo cualitativo nominal\n",
        "* `edad`: es de tipo cuantitativo discreto\n",
        "* `ninos`: es de tipo cualitativo nominal (es un booleano)\n",
        "* `codigo_destino`: es de tipo cualitativo nominal\n",
        "* `tipo_acomodacion`: es de tipo cualitativo nominal\n",
        "\n"
      ]
    },
    {
      "cell_type": "markdown",
      "metadata": {
        "id": "hC4eHVU9oO3N"
      },
      "source": [
        "### Informe de descripción de datos\n",
        "\n",
        "#### Cantidad de datos\n",
        "\n",
        "* ¿Cuál es el formato de los datos?\n",
        "\n",
        "RTA: El formato de origen es un archivo .txt\n",
        "\n",
        "* Identifique el método utilizado para capturar los datos.\n",
        "\n",
        "RTA: Mediante llenar los campos solicitados en un formulario.\n",
        "\n",
        "* ¿Qué dimensiones tiene la base de datos (en números de filas y columnas)?\n",
        "\n",
        "RTA: Filas: 9868. Columnas: 7\n",
        "\n",
        "\n",
        "#### Calidad de datos\n",
        "\n",
        "* ¿Incluyen los datos características relativas a la cuestión comercial?\n",
        "\n",
        "RTA: Para las preguntas propuestas, existen las preguntas necesarias. Sin embargo es recomendado obtener variables adicionales.\n",
        "\n",
        "* ¿Qué tipos de datos están presentes (simbólicos, numéricos, etc.)?\n",
        "\n",
        "  * `id_viaje`: es de tipo cuantitativo discreto\n",
        "  * `duracion_estadia`: es de tipo cuantitativo discreto\n",
        "  * `genero`: es de tipo cualitativo nominal\n",
        "  * `edad`: es de tipo cuantitativo discreto\n",
        "  * `ninos`: es de tipo cualitativo nominal (es un booleano)\n",
        "  * `codigo_destino`: es de tipo cualitativo nominal\n",
        "  * `tipo_acomodacion`: es de tipo cualitativo nominal\n",
        "\n",
        "* ¿Ha realizado una cálculo básico de los estadísticos de los atributos clave? ¿Qué conocimientos ha proporcionado este proceso en cuestiones comerciales?\n",
        "\n",
        "RTA: Se realizaran en la fase de EDA\n",
        "\n",
        "* ¿Puede priorizar los atributos relevantes? En caso negativo, ¿los analistas empresariales pueden proporcionar más conocimientos?\n",
        "\n",
        "RTA: Se realizaran en la fase de EDA"
      ]
    }
  ]
}