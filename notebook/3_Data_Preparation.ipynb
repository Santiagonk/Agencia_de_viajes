{
  "nbformat": 4,
  "nbformat_minor": 0,
  "metadata": {
    "colab": {
      "name": "3.Data_Preparation.ipynb",
      "provenance": [],
      "collapsed_sections": []
    },
    "kernelspec": {
      "name": "python3",
      "display_name": "Python 3"
    },
    "language_info": {
      "name": "python"
    }
  },
  "cells": [
    {
      "cell_type": "markdown",
      "metadata": {
        "id": "oQ-korKefh2Y"
      },
      "source": [
        "# Data Preparation"
      ]
    },
    {
      "cell_type": "code",
      "metadata": {
        "colab": {
          "base_uri": "https://localhost:8080/"
        },
        "id": "nxJFJrmpfTfV",
        "outputId": "f32d52e8-df51-472b-d232-14ce111906cc"
      },
      "source": [
        "from google.colab import drive\n",
        "drive.mount('/content/drive')"
      ],
      "execution_count": null,
      "outputs": [
        {
          "output_type": "stream",
          "text": [
            "Mounted at /content/drive\n"
          ],
          "name": "stdout"
        }
      ]
    },
    {
      "cell_type": "code",
      "metadata": {
        "colab": {
          "base_uri": "https://localhost:8080/"
        },
        "id": "O8KaTb5mgA5K",
        "outputId": "896a74eb-6d17-43ef-b5d2-232086f8b50a"
      },
      "source": [
        "%cd '/content/drive/My Drive/Colab Notebooks/PlatziMaster/Proyecto Agencia de Viajes/datasets'\n",
        "!ls"
      ],
      "execution_count": null,
      "outputs": [
        {
          "output_type": "stream",
          "text": [
            "/content/drive/My Drive/Colab Notebooks/PlatziMaster/Proyecto Agencia de Viajes/datasets\n",
            "clean_data.csv\tDataAcomodacion.csv  funciones_auxiliares.ipynb  train_data.txt\n"
          ],
          "name": "stdout"
        }
      ]
    },
    {
      "cell_type": "code",
      "metadata": {
        "id": "3KIG_2qbgA-K"
      },
      "source": [
        "%run funciones_auxiliares.ipynb"
      ],
      "execution_count": null,
      "outputs": []
    },
    {
      "cell_type": "markdown",
      "metadata": {
        "id": "E79iA6MJgLFF"
      },
      "source": [
        "## Dependencias"
      ]
    },
    {
      "cell_type": "code",
      "metadata": {
        "id": "YQqPhDrlgBCZ"
      },
      "source": [
        "# Traer librerias\n",
        "import pandas as pd\n",
        "import numpy as np\n",
        "import matplotlib.pyplot as plt"
      ],
      "execution_count": null,
      "outputs": []
    },
    {
      "cell_type": "markdown",
      "metadata": {
        "id": "YnwsSMNPgOw9"
      },
      "source": [
        "## Carga de Datos"
      ]
    },
    {
      "cell_type": "code",
      "metadata": {
        "colab": {
          "base_uri": "https://localhost:8080/",
          "height": 217
        },
        "id": "roTV8XougBGv",
        "outputId": "0f8853cb-f4ea-4c28-eed7-d0baa7d12d26"
      },
      "source": [
        "f = open(\"train_data.txt\", \"r\")\n",
        "data_acomodation = load_data(f)\n",
        "data_acomodation = dataTypeTransform(data_acomodation)\n",
        "data_acomodation.head()"
      ],
      "execution_count": null,
      "outputs": [
        {
          "output_type": "execute_result",
          "data": {
            "text/html": [
              "<div>\n",
              "<style scoped>\n",
              "    .dataframe tbody tr th:only-of-type {\n",
              "        vertical-align: middle;\n",
              "    }\n",
              "\n",
              "    .dataframe tbody tr th {\n",
              "        vertical-align: top;\n",
              "    }\n",
              "\n",
              "    .dataframe thead th {\n",
              "        text-align: right;\n",
              "    }\n",
              "</style>\n",
              "<table border=\"1\" class=\"dataframe\">\n",
              "  <thead>\n",
              "    <tr style=\"text-align: right;\">\n",
              "      <th></th>\n",
              "      <th>id_viaje</th>\n",
              "      <th>duracion_estadia</th>\n",
              "      <th>genero</th>\n",
              "      <th>edad</th>\n",
              "      <th>ninos</th>\n",
              "      <th>codigo_destino</th>\n",
              "      <th>tipo_acomodacion</th>\n",
              "    </tr>\n",
              "  </thead>\n",
              "  <tbody>\n",
              "    <tr>\n",
              "      <th>0</th>\n",
              "      <td>1010286</td>\n",
              "      <td>7</td>\n",
              "      <td>F</td>\n",
              "      <td>40</td>\n",
              "      <td>0</td>\n",
              "      <td>COL</td>\n",
              "      <td>AirBnB</td>\n",
              "    </tr>\n",
              "    <tr>\n",
              "      <th>1</th>\n",
              "      <td>1000152</td>\n",
              "      <td>5</td>\n",
              "      <td>M</td>\n",
              "      <td>&lt;NA&gt;</td>\n",
              "      <td>0</td>\n",
              "      <td>&lt;NA&gt;</td>\n",
              "      <td>AirBnB</td>\n",
              "    </tr>\n",
              "    <tr>\n",
              "      <th>2</th>\n",
              "      <td>1009019</td>\n",
              "      <td>4</td>\n",
              "      <td>F</td>\n",
              "      <td>39</td>\n",
              "      <td>1</td>\n",
              "      <td>ES</td>\n",
              "      <td>Hotel</td>\n",
              "    </tr>\n",
              "    <tr>\n",
              "      <th>3</th>\n",
              "      <td>1007840</td>\n",
              "      <td>5</td>\n",
              "      <td>F</td>\n",
              "      <td>45</td>\n",
              "      <td>0</td>\n",
              "      <td>NL</td>\n",
              "      <td>Hotel</td>\n",
              "    </tr>\n",
              "    <tr>\n",
              "      <th>4</th>\n",
              "      <td>1006939</td>\n",
              "      <td>5</td>\n",
              "      <td>M</td>\n",
              "      <td>45</td>\n",
              "      <td>1</td>\n",
              "      <td>UK</td>\n",
              "      <td>Hotel</td>\n",
              "    </tr>\n",
              "  </tbody>\n",
              "</table>\n",
              "</div>"
            ],
            "text/plain": [
              "   id_viaje  duracion_estadia genero  ...  ninos codigo_destino tipo_acomodacion\n",
              "0   1010286                 7      F  ...      0            COL           AirBnB\n",
              "1   1000152                 5      M  ...      0           <NA>           AirBnB\n",
              "2   1009019                 4      F  ...      1             ES            Hotel\n",
              "3   1007840                 5      F  ...      0             NL            Hotel\n",
              "4   1006939                 5      M  ...      1             UK            Hotel\n",
              "\n",
              "[5 rows x 7 columns]"
            ]
          },
          "metadata": {
            "tags": []
          },
          "execution_count": 5
        }
      ]
    },
    {
      "cell_type": "markdown",
      "metadata": {
        "id": "VljpdVBkhDh3"
      },
      "source": [
        "## Seleccion de Datos\n"
      ]
    },
    {
      "cell_type": "code",
      "metadata": {
        "colab": {
          "base_uri": "https://localhost:8080/"
        },
        "id": "k9PH6u9ygBKI",
        "outputId": "c7694ec9-e5dc-4e01-f142-dac1cd45771e"
      },
      "source": [
        "data_acomodation.info()"
      ],
      "execution_count": null,
      "outputs": [
        {
          "output_type": "stream",
          "text": [
            "<class 'pandas.core.frame.DataFrame'>\n",
            "Int64Index: 9868 entries, 0 to 9867\n",
            "Data columns (total 7 columns):\n",
            " #   Column            Non-Null Count  Dtype   \n",
            "---  ------            --------------  -----   \n",
            " 0   id_viaje          9868 non-null   Int64   \n",
            " 1   duracion_estadia  9868 non-null   Int64   \n",
            " 2   genero            9868 non-null   category\n",
            " 3   edad              8874 non-null   Int64   \n",
            " 4   ninos             8897 non-null   string  \n",
            " 5   codigo_destino    8872 non-null   string  \n",
            " 6   tipo_acomodacion  9868 non-null   string  \n",
            "dtypes: Int64(3), category(1), string(3)\n",
            "memory usage: 578.3 KB\n"
          ],
          "name": "stdout"
        }
      ]
    },
    {
      "cell_type": "markdown",
      "metadata": {
        "id": "KkNr9IFohVwL"
      },
      "source": [
        "`id_viaje`, `duracion_estadia`, `genero` y `tipo_acomodacion` se encuentran sin datos nulos.\n",
        "tenemos que pasar a valores numericos las variables que tenemos,  por ejemplo con variables dummy en el caso de `genero` y `codigo_destino`.\n",
        "\n",
        "En la primera iteración del modelo realizaremos, con las variables que tenemos.\n"
      ]
    },
    {
      "cell_type": "markdown",
      "metadata": {
        "id": "0pn8pnnBhHc0"
      },
      "source": [
        "## Limpieza de Datos"
      ]
    },
    {
      "cell_type": "code",
      "metadata": {
        "id": "eBkgJDkahQuz",
        "colab": {
          "base_uri": "https://localhost:8080/"
        },
        "outputId": "1493f78f-42fe-480b-dd8e-77b08f23fd41"
      },
      "source": [
        "data_acomodation.isna().mean()"
      ],
      "execution_count": null,
      "outputs": [
        {
          "output_type": "execute_result",
          "data": {
            "text/plain": [
              "id_viaje            0.000000\n",
              "duracion_estadia    0.000000\n",
              "genero              0.000000\n",
              "edad                0.100730\n",
              "ninos               0.098399\n",
              "codigo_destino      0.100932\n",
              "tipo_acomodacion    0.000000\n",
              "dtype: float64"
            ]
          },
          "metadata": {
            "tags": []
          },
          "execution_count": 7
        }
      ]
    },
    {
      "cell_type": "markdown",
      "metadata": {
        "id": "BMq3C9TMIf1f"
      },
      "source": [
        "En las columnas con valores faltantes, no se tienen mas del 11% sobre el total de valores"
      ]
    },
    {
      "cell_type": "code",
      "metadata": {
        "id": "1QFt9SIlhQ42",
        "colab": {
          "base_uri": "https://localhost:8080/"
        },
        "outputId": "ac09d135-9120-43d2-d1f7-fa79c2f0975c"
      },
      "source": [
        "condition = (data_acomodation['edad'].isna()) & (data_acomodation['ninos'].isna()) & (data_acomodation['codigo_destino'].isna())\n",
        "data_acomodation[condition].count()"
      ],
      "execution_count": null,
      "outputs": [
        {
          "output_type": "execute_result",
          "data": {
            "text/plain": [
              "id_viaje            9\n",
              "duracion_estadia    9\n",
              "genero              9\n",
              "edad                0\n",
              "ninos               0\n",
              "codigo_destino      0\n",
              "tipo_acomodacion    9\n",
              "dtype: int64"
            ]
          },
          "metadata": {
            "tags": []
          },
          "execution_count": 8
        }
      ]
    },
    {
      "cell_type": "markdown",
      "metadata": {
        "id": "5Kth32dOJF_x"
      },
      "source": [
        "Tenemos 9 valores que los campos mencionados tienen valores faltantes"
      ]
    },
    {
      "cell_type": "code",
      "metadata": {
        "id": "4OGPNxz8hQ8x"
      },
      "source": [
        "data_acomodation.dropna(subset=['edad','ninos','codigo_destino'], how = 'all', inplace=True)"
      ],
      "execution_count": null,
      "outputs": []
    },
    {
      "cell_type": "code",
      "metadata": {
        "id": "2J52AkXjhRAa"
      },
      "source": [
        "data_acomodation['edad'].fillna(data_acomodation['edad'].median(), inplace = True)"
      ],
      "execution_count": null,
      "outputs": []
    },
    {
      "cell_type": "code",
      "metadata": {
        "id": "9e_5GnMxhREJ",
        "colab": {
          "base_uri": "https://localhost:8080/",
          "height": 35
        },
        "outputId": "2f26d28e-d8c0-40e6-9aad-a21190c458f8"
      },
      "source": [
        "data_acomodation['ninos'].mode()[0]"
      ],
      "execution_count": null,
      "outputs": [
        {
          "output_type": "execute_result",
          "data": {
            "application/vnd.google.colaboratory.intrinsic+json": {
              "type": "string"
            },
            "text/plain": [
              "'1'"
            ]
          },
          "metadata": {
            "tags": []
          },
          "execution_count": 11
        }
      ]
    },
    {
      "cell_type": "code",
      "metadata": {
        "colab": {
          "base_uri": "https://localhost:8080/"
        },
        "id": "QMSJED9LMjmo",
        "outputId": "4807b6bd-c52e-46a2-9083-d2328512728b"
      },
      "source": [
        "data_acomodation['ninos'].value_counts()"
      ],
      "execution_count": null,
      "outputs": [
        {
          "output_type": "execute_result",
          "data": {
            "text/plain": [
              "1    4488\n",
              "0    4409\n",
              "Name: ninos, dtype: Int64"
            ]
          },
          "metadata": {
            "tags": []
          },
          "execution_count": 12
        }
      ]
    },
    {
      "cell_type": "code",
      "metadata": {
        "colab": {
          "base_uri": "https://localhost:8080/"
        },
        "id": "yhs3YD8ONNBr",
        "outputId": "f178df2a-d2d6-4e14-dd8e-ad511e56575b"
      },
      "source": [
        "data_acomodation['ninos'].value_counts().mean()"
      ],
      "execution_count": null,
      "outputs": [
        {
          "output_type": "execute_result",
          "data": {
            "text/plain": [
              "4448.5"
            ]
          },
          "metadata": {
            "tags": []
          },
          "execution_count": 13
        }
      ]
    },
    {
      "cell_type": "code",
      "metadata": {
        "colab": {
          "base_uri": "https://localhost:8080/"
        },
        "id": "zG8peG3eNbjC",
        "outputId": "cec0ffa5-38c0-4941-8b44-77da8951050f"
      },
      "source": [
        "data_acomodation['ninos'].value_counts().std()"
      ],
      "execution_count": null,
      "outputs": [
        {
          "output_type": "execute_result",
          "data": {
            "text/plain": [
              "55.86143571373726"
            ]
          },
          "metadata": {
            "tags": []
          },
          "execution_count": 14
        }
      ]
    },
    {
      "cell_type": "code",
      "metadata": {
        "colab": {
          "base_uri": "https://localhost:8080/"
        },
        "id": "PriK63KkK43f",
        "outputId": "3454551f-5225-4a11-f27f-0a45a29483ed"
      },
      "source": [
        "data_acomodation['codigo_destino'].value_counts()"
      ],
      "execution_count": null,
      "outputs": [
        {
          "output_type": "execute_result",
          "data": {
            "text/plain": [
              "US     1161\n",
              "COL    1150\n",
              "IT     1114\n",
              "AR     1107\n",
              "NL     1101\n",
              "PE     1095\n",
              "UK     1086\n",
              "ES     1058\n",
              "Name: codigo_destino, dtype: Int64"
            ]
          },
          "metadata": {
            "tags": []
          },
          "execution_count": 15
        }
      ]
    },
    {
      "cell_type": "code",
      "metadata": {
        "colab": {
          "base_uri": "https://localhost:8080/"
        },
        "id": "eN3DHFvGNfW5",
        "outputId": "f6767315-4ca5-4f17-99c1-c0adc6852e06"
      },
      "source": [
        "data_acomodation['codigo_destino'].value_counts().mean()"
      ],
      "execution_count": null,
      "outputs": [
        {
          "output_type": "execute_result",
          "data": {
            "text/plain": [
              "1109.0"
            ]
          },
          "metadata": {
            "tags": []
          },
          "execution_count": 16
        }
      ]
    },
    {
      "cell_type": "code",
      "metadata": {
        "colab": {
          "base_uri": "https://localhost:8080/"
        },
        "id": "lxW8-7jGNjOp",
        "outputId": "a44ffa09-1a0e-42e5-fba4-25b4e3d2affb"
      },
      "source": [
        "data_acomodation['codigo_destino'].value_counts().std()"
      ],
      "execution_count": null,
      "outputs": [
        {
          "output_type": "execute_result",
          "data": {
            "text/plain": [
              "33.38947652864811"
            ]
          },
          "metadata": {
            "tags": []
          },
          "execution_count": 17
        }
      ]
    },
    {
      "cell_type": "code",
      "metadata": {
        "colab": {
          "base_uri": "https://localhost:8080/"
        },
        "id": "1zKpW-b-K4-a",
        "outputId": "02abaf70-150c-49ad-b153-70eec543e896"
      },
      "source": [
        "data_acomodation[data_acomodation['ninos'].isna()].count()"
      ],
      "execution_count": null,
      "outputs": [
        {
          "output_type": "execute_result",
          "data": {
            "text/plain": [
              "id_viaje            962\n",
              "duracion_estadia    962\n",
              "genero              962\n",
              "edad                962\n",
              "ninos                 0\n",
              "codigo_destino      868\n",
              "tipo_acomodacion    962\n",
              "dtype: int64"
            ]
          },
          "metadata": {
            "tags": []
          },
          "execution_count": 18
        }
      ]
    },
    {
      "cell_type": "code",
      "metadata": {
        "colab": {
          "base_uri": "https://localhost:8080/"
        },
        "id": "maQEH6tmK5CS",
        "outputId": "88c7dc01-54d4-41e3-bda6-afbc47ef6599"
      },
      "source": [
        "data_acomodation[data_acomodation['codigo_destino'].isna()].count()"
      ],
      "execution_count": null,
      "outputs": [
        {
          "output_type": "execute_result",
          "data": {
            "text/plain": [
              "id_viaje            987\n",
              "duracion_estadia    987\n",
              "genero              987\n",
              "edad                987\n",
              "ninos               893\n",
              "codigo_destino        0\n",
              "tipo_acomodacion    987\n",
              "dtype: int64"
            ]
          },
          "metadata": {
            "tags": []
          },
          "execution_count": 19
        }
      ]
    },
    {
      "cell_type": "code",
      "metadata": {
        "id": "AYWTMYRmK5F6"
      },
      "source": [
        "data_acomodation.dropna(subset=['ninos','codigo_destino'], how = 'any', inplace=True)"
      ],
      "execution_count": null,
      "outputs": []
    },
    {
      "cell_type": "code",
      "metadata": {
        "id": "X6LL-LjZN1DW"
      },
      "source": [
        "dummy_countries = pd.get_dummies(data_acomodation['codigo_destino'], drop_first=True)"
      ],
      "execution_count": null,
      "outputs": []
    },
    {
      "cell_type": "code",
      "metadata": {
        "colab": {
          "base_uri": "https://localhost:8080/"
        },
        "id": "8rAvjY7-N1Hc",
        "outputId": "8f12ac13-29af-483a-9de5-ea0f91579db6"
      },
      "source": [
        "countries = list(data_acomodation['codigo_destino'].value_counts().index)\n",
        "countries"
      ],
      "execution_count": null,
      "outputs": [
        {
          "output_type": "execute_result",
          "data": {
            "text/plain": [
              "['US', 'COL', 'IT', 'PE', 'AR', 'NL', 'UK', 'ES']"
            ]
          },
          "metadata": {
            "tags": []
          },
          "execution_count": 22
        }
      ]
    },
    {
      "cell_type": "code",
      "metadata": {
        "colab": {
          "base_uri": "https://localhost:8080/"
        },
        "id": "5zMABjn3N1K2",
        "outputId": "ba03abe2-eae8-4c1c-fdf7-253682aa32a6"
      },
      "source": [
        "dummy_countries.columns"
      ],
      "execution_count": null,
      "outputs": [
        {
          "output_type": "execute_result",
          "data": {
            "text/plain": [
              "Index(['COL', 'ES', 'IT', 'NL', 'PE', 'UK', 'US'], dtype='object')"
            ]
          },
          "metadata": {
            "tags": []
          },
          "execution_count": 23
        }
      ]
    },
    {
      "cell_type": "code",
      "metadata": {
        "id": "qsCGWMFBN1OV"
      },
      "source": [
        "data_acomodation.drop('codigo_destino', axis = 1, inplace=True)"
      ],
      "execution_count": null,
      "outputs": []
    },
    {
      "cell_type": "code",
      "metadata": {
        "id": "x9XYC5HXQC9O"
      },
      "source": [
        "data_acomodation.drop('id_viaje', axis = 1, inplace=True)"
      ],
      "execution_count": null,
      "outputs": []
    },
    {
      "cell_type": "code",
      "metadata": {
        "id": "JexLnw3wPtDr"
      },
      "source": [
        "data_acomodation['genero'] = data_acomodation['genero'].apply(lambda x: 1 if x == 'F' else 0)"
      ],
      "execution_count": null,
      "outputs": []
    },
    {
      "cell_type": "code",
      "metadata": {
        "id": "VGAoa8PDohSS"
      },
      "source": [
        "data_acomodation['tipo_acomodacion'] = data_acomodation['tipo_acomodacion'].apply(lambda x: 1 if x == 'Hotel' else 0)"
      ],
      "execution_count": null,
      "outputs": []
    },
    {
      "cell_type": "code",
      "metadata": {
        "colab": {
          "base_uri": "https://localhost:8080/",
          "height": 217
        },
        "id": "OWRp2xjPN1Ru",
        "outputId": "120fbb76-161e-477e-cf73-4e463d009bf3"
      },
      "source": [
        "clean_data = pd.concat([data_acomodation, dummy_countries], axis = 1)\n",
        "clean_data.head()"
      ],
      "execution_count": null,
      "outputs": [
        {
          "output_type": "execute_result",
          "data": {
            "text/html": [
              "<div>\n",
              "<style scoped>\n",
              "    .dataframe tbody tr th:only-of-type {\n",
              "        vertical-align: middle;\n",
              "    }\n",
              "\n",
              "    .dataframe tbody tr th {\n",
              "        vertical-align: top;\n",
              "    }\n",
              "\n",
              "    .dataframe thead th {\n",
              "        text-align: right;\n",
              "    }\n",
              "</style>\n",
              "<table border=\"1\" class=\"dataframe\">\n",
              "  <thead>\n",
              "    <tr style=\"text-align: right;\">\n",
              "      <th></th>\n",
              "      <th>duracion_estadia</th>\n",
              "      <th>genero</th>\n",
              "      <th>edad</th>\n",
              "      <th>ninos</th>\n",
              "      <th>tipo_acomodacion</th>\n",
              "      <th>COL</th>\n",
              "      <th>ES</th>\n",
              "      <th>IT</th>\n",
              "      <th>NL</th>\n",
              "      <th>PE</th>\n",
              "      <th>UK</th>\n",
              "      <th>US</th>\n",
              "    </tr>\n",
              "  </thead>\n",
              "  <tbody>\n",
              "    <tr>\n",
              "      <th>0</th>\n",
              "      <td>7</td>\n",
              "      <td>1</td>\n",
              "      <td>40</td>\n",
              "      <td>0</td>\n",
              "      <td>0</td>\n",
              "      <td>1</td>\n",
              "      <td>0</td>\n",
              "      <td>0</td>\n",
              "      <td>0</td>\n",
              "      <td>0</td>\n",
              "      <td>0</td>\n",
              "      <td>0</td>\n",
              "    </tr>\n",
              "    <tr>\n",
              "      <th>2</th>\n",
              "      <td>4</td>\n",
              "      <td>1</td>\n",
              "      <td>39</td>\n",
              "      <td>1</td>\n",
              "      <td>1</td>\n",
              "      <td>0</td>\n",
              "      <td>1</td>\n",
              "      <td>0</td>\n",
              "      <td>0</td>\n",
              "      <td>0</td>\n",
              "      <td>0</td>\n",
              "      <td>0</td>\n",
              "    </tr>\n",
              "    <tr>\n",
              "      <th>3</th>\n",
              "      <td>5</td>\n",
              "      <td>1</td>\n",
              "      <td>45</td>\n",
              "      <td>0</td>\n",
              "      <td>1</td>\n",
              "      <td>0</td>\n",
              "      <td>0</td>\n",
              "      <td>0</td>\n",
              "      <td>1</td>\n",
              "      <td>0</td>\n",
              "      <td>0</td>\n",
              "      <td>0</td>\n",
              "    </tr>\n",
              "    <tr>\n",
              "      <th>4</th>\n",
              "      <td>5</td>\n",
              "      <td>0</td>\n",
              "      <td>45</td>\n",
              "      <td>1</td>\n",
              "      <td>1</td>\n",
              "      <td>0</td>\n",
              "      <td>0</td>\n",
              "      <td>0</td>\n",
              "      <td>0</td>\n",
              "      <td>0</td>\n",
              "      <td>1</td>\n",
              "      <td>0</td>\n",
              "    </tr>\n",
              "    <tr>\n",
              "      <th>5</th>\n",
              "      <td>7</td>\n",
              "      <td>1</td>\n",
              "      <td>47</td>\n",
              "      <td>1</td>\n",
              "      <td>0</td>\n",
              "      <td>0</td>\n",
              "      <td>0</td>\n",
              "      <td>1</td>\n",
              "      <td>0</td>\n",
              "      <td>0</td>\n",
              "      <td>0</td>\n",
              "      <td>0</td>\n",
              "    </tr>\n",
              "  </tbody>\n",
              "</table>\n",
              "</div>"
            ],
            "text/plain": [
              "   duracion_estadia genero  edad ninos  tipo_acomodacion  ...  IT  NL  PE  UK  US\n",
              "0                 7      1    40     0                 0  ...   0   0   0   0   0\n",
              "2                 4      1    39     1                 1  ...   0   0   0   0   0\n",
              "3                 5      1    45     0                 1  ...   0   1   0   0   0\n",
              "4                 5      0    45     1                 1  ...   0   0   0   1   0\n",
              "5                 7      1    47     1                 0  ...   1   0   0   0   0\n",
              "\n",
              "[5 rows x 12 columns]"
            ]
          },
          "metadata": {
            "tags": []
          },
          "execution_count": 31
        }
      ]
    },
    {
      "cell_type": "code",
      "metadata": {
        "id": "f4Jyy9hopcFi",
        "colab": {
          "base_uri": "https://localhost:8080/"
        },
        "outputId": "5a99486a-b01f-4995-f35a-b19215b523be"
      },
      "source": [
        "clean_data.columns"
      ],
      "execution_count": null,
      "outputs": [
        {
          "output_type": "execute_result",
          "data": {
            "text/plain": [
              "Index(['duracion_estadia', 'genero', 'edad', 'ninos', 'tipo_acomodacion',\n",
              "       'COL', 'ES', 'IT', 'NL', 'PE', 'UK', 'US'],\n",
              "      dtype='object')"
            ]
          },
          "metadata": {
            "tags": []
          },
          "execution_count": 34
        }
      ]
    },
    {
      "cell_type": "code",
      "metadata": {
        "id": "JNWZsnB5K5Je"
      },
      "source": [
        "clean_data.to_csv('clean_data.csv')"
      ],
      "execution_count": null,
      "outputs": []
    }
  ]
}